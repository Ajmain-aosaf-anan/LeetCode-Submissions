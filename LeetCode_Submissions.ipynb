{
  "nbformat": 4,
  "nbformat_minor": 0,
  "metadata": {
    "colab": {
      "provenance": [],
      "authorship_tag": "ABX9TyO3Wp2a0HoIRupBnwBfEwf4",
      "include_colab_link": true
    },
    "kernelspec": {
      "name": "python3",
      "display_name": "Python 3"
    },
    "language_info": {
      "name": "python"
    }
  },
  "cells": [
    {
      "cell_type": "markdown",
      "metadata": {
        "id": "view-in-github",
        "colab_type": "text"
      },
      "source": [
        "<a href=\"https://colab.research.google.com/github/Ajmain-aosaf-anan/LeetCode-Submissions/blob/main/LeetCode_Submissions.ipynb\" target=\"_parent\"><img src=\"https://colab.research.google.com/assets/colab-badge.svg\" alt=\"Open In Colab\"/></a>"
      ]
    },
    {
      "cell_type": "code",
      "execution_count": null,
      "metadata": {
        "id": "GQ18Kd5F3uKe",
        "colab": {
          "base_uri": "https://localhost:8080/"
        },
        "outputId": "f8d872ea-60d0-4b86-d386-a22745b64161"
      },
      "outputs": [
        {
          "output_type": "stream",
          "name": "stdout",
          "text": [
            "Requirement already satisfied: matplotlib-venn in /usr/local/lib/python3.10/dist-packages (1.1.1)\n",
            "Requirement already satisfied: matplotlib in /usr/local/lib/python3.10/dist-packages (from matplotlib-venn) (3.8.0)\n",
            "Requirement already satisfied: numpy in /usr/local/lib/python3.10/dist-packages (from matplotlib-venn) (1.26.4)\n",
            "Requirement already satisfied: scipy in /usr/local/lib/python3.10/dist-packages (from matplotlib-venn) (1.13.1)\n",
            "Requirement already satisfied: contourpy>=1.0.1 in /usr/local/lib/python3.10/dist-packages (from matplotlib->matplotlib-venn) (1.3.1)\n",
            "Requirement already satisfied: cycler>=0.10 in /usr/local/lib/python3.10/dist-packages (from matplotlib->matplotlib-venn) (0.12.1)\n",
            "Requirement already satisfied: fonttools>=4.22.0 in /usr/local/lib/python3.10/dist-packages (from matplotlib->matplotlib-venn) (4.55.0)\n",
            "Requirement already satisfied: kiwisolver>=1.0.1 in /usr/local/lib/python3.10/dist-packages (from matplotlib->matplotlib-venn) (1.4.7)\n",
            "Requirement already satisfied: packaging>=20.0 in /usr/local/lib/python3.10/dist-packages (from matplotlib->matplotlib-venn) (24.2)\n",
            "Requirement already satisfied: pillow>=6.2.0 in /usr/local/lib/python3.10/dist-packages (from matplotlib->matplotlib-venn) (11.0.0)\n",
            "Requirement already satisfied: pyparsing>=2.3.1 in /usr/local/lib/python3.10/dist-packages (from matplotlib->matplotlib-venn) (3.2.0)\n",
            "Requirement already satisfied: python-dateutil>=2.7 in /usr/local/lib/python3.10/dist-packages (from matplotlib->matplotlib-venn) (2.8.2)\n",
            "Requirement already satisfied: six>=1.5 in /usr/local/lib/python3.10/dist-packages (from python-dateutil>=2.7->matplotlib->matplotlib-venn) (1.16.0)\n"
          ]
        }
      ],
      "source": [
        "!pip install matplotlib-venn"
      ]
    },
    {
      "cell_type": "code",
      "execution_count": null,
      "metadata": {
        "id": "__3eqm3q3sr-",
        "colab": {
          "base_uri": "https://localhost:8080/"
        },
        "outputId": "37e30b62-37e0-4b50-8d53-5375c9848682"
      },
      "outputs": [
        {
          "output_type": "stream",
          "name": "stdout",
          "text": [
            "E: Package 'libfluidsynth1' has no installation candidate\n"
          ]
        }
      ],
      "source": [
        "!apt-get -qq install -y libfluidsynth1"
      ]
    },
    {
      "cell_type": "code",
      "execution_count": null,
      "metadata": {
        "collapsed": true,
        "id": "qnfLiYhEaac9"
      },
      "outputs": [],
      "source": [
        "'Merge Sorted Array'\n",
        "\n",
        "from typing import List\n",
        "\n",
        "class Solution:\n",
        "  def merge(self, nums1: List[int], m: int, nums2: List[int], n: int) -> None:\n",
        "        p1, p2, p = m - 1, n - 1, m + n - 1\n",
        "        while p1 >= 0 and p2 >= 0:\n",
        "            if nums1[p1] > nums2[p2]:\n",
        "                nums1[p] = nums1[p1]\n",
        "                p1 -= 1\n",
        "            else:\n",
        "                nums1[p] = nums2[p2]\n",
        "                p2 -= 1\n",
        "            p -= 1\n",
        "        while p2 >= 0:\n",
        "            nums1[p] = nums2[p2]\n",
        "            p2 -= 1\n",
        "            p -= 1\n"
      ]
    },
    {
      "cell_type": "code",
      "source": [
        "'Remove Element'\n",
        "from typing import List\n",
        "\n",
        "class Solution:\n",
        "    def removeElement(self, nums: List[int], val: int) -> int:\n",
        "        k = 0  # Pointer for the position to place non-val elements\n",
        "        for i in range(len(nums)):\n",
        "            if nums[i] != val:\n",
        "                nums[k] = nums[i]\n",
        "                k += 1\n",
        "        return k\n"
      ],
      "metadata": {
        "id": "l2QtIBToeOYQ"
      },
      "execution_count": null,
      "outputs": []
    },
    {
      "cell_type": "code",
      "source": [
        "'Remove Duplicates from Sorted Array'\n",
        "from typing import List\n",
        "\n",
        "class Solution:\n",
        "    def removeDuplicates(self, nums: List[int]) -> int:\n",
        "        if not nums:\n",
        "            return 0\n",
        "\n",
        "        k = 1\n",
        "        for i in range(1, len(nums)):\n",
        "            if nums[i] != nums[i - 1]:\n",
        "                nums[k] = nums[i]\n",
        "                k += 1\n",
        "        return k\n",
        "\n",
        "# Example usage:\n",
        "solution = Solution()\n",
        "nums = [1,1,1,2,2,3]\n",
        "k = solution.removeDuplicates(nums)\n",
        "print(k)  # Output: 5\n",
        "print(nums[:k])  # Output: [1, 1, 2, 2, 3]\n",
        "\n",
        "nums = [0,0,1,1,1,1,2,3,3]\n",
        "k = solution.removeDuplicates(nums)\n",
        "print(k)  # Output: 7\n",
        "print(nums[:k])  # Output: [0, 0, 1, 1, 2, 3, 3]"
      ],
      "metadata": {
        "colab": {
          "base_uri": "https://localhost:8080/"
        },
        "id": "YpRSWBnOhH-y",
        "outputId": "acc72777-92f7-4ecc-df5b-8ecf9b771c18"
      },
      "execution_count": null,
      "outputs": [
        {
          "output_type": "stream",
          "name": "stdout",
          "text": [
            "3\n",
            "[1, 2, 3]\n",
            "4\n",
            "[0, 1, 2, 3]\n"
          ]
        }
      ]
    },
    {
      "cell_type": "code",
      "source": [
        "'Remove Duplicates from Sorted Array II'\n",
        "from typing import List\n",
        "\n",
        "class Solution:\n",
        "    def removeDuplicates(self, nums: List[int]) -> int:\n",
        "        if len(nums) <= 2:\n",
        "            return len(nums)\n",
        "        k = 2\n",
        "        for i in range(2, len(nums)):\n",
        "            if nums[i] != nums[k - 2]:\n",
        "                nums[k] = nums[i]\n",
        "                k += 1\n",
        "        return k\n",
        "\n",
        "# Example usage:\n",
        "solution = Solution()\n",
        "nums = [1,1,1,2,2,3]\n",
        "k = solution.removeDuplicates(nums)\n",
        "print(k)  # Output: 5\n",
        "print(nums[:k])  # Output: [1, 1, 2, 2, 3]\n",
        "\n",
        "nums = [0,0,1,1,1,1,2,3,3]\n",
        "k = solution.removeDuplicates(nums)\n",
        "print(k)  # Output: 7\n",
        "print(nums[:k])  # Output: [0, 0, 1, 1, 2, 3, 3]"
      ],
      "metadata": {
        "colab": {
          "base_uri": "https://localhost:8080/"
        },
        "id": "_or6WJxGhPHo",
        "outputId": "bcbfeac3-32f5-468c-fb66-6d13e059d12e"
      },
      "execution_count": null,
      "outputs": [
        {
          "output_type": "stream",
          "name": "stdout",
          "text": [
            "5\n",
            "[1, 1, 2, 2, 3]\n",
            "7\n",
            "[0, 0, 1, 1, 2, 3, 3]\n"
          ]
        }
      ]
    },
    {
      "cell_type": "code",
      "source": [
        "'Flipping Bits'\n",
        "from typing import List\n",
        "\n",
        "class Solution:\n",
        "    def minKBitFlips(self, nums: List[int], k: int) -> int:\n",
        "        n = len(nums)\n",
        "        flip = [0] * n\n",
        "        flips = 0\n",
        "        flip_effect = 0\n",
        "\n",
        "        for i in range(n):\n",
        "            # Remove the effect of the flip that has gone out of the window\n",
        "            if i >= k:\n",
        "                flip_effect ^= flip[i - k]\n",
        "\n",
        "            # Determine the current state of the bit considering flip effects\n",
        "            if nums[i] == flip_effect:\n",
        "                # If we are at a zero after accounting for flip effects, we need to flip\n",
        "                if i + k > n:\n",
        "                    # Not enough space to perform a k-length flip\n",
        "                    return -1\n",
        "                # Perform the flip\n",
        "                flip[i] = 1\n",
        "                flip_effect ^= 1\n",
        "                flips += 1\n",
        "\n",
        "        return flips\n",
        "\n",
        "# Example usage:\n",
        "solution = Solution()\n",
        "print(solution.minKBitFlips([0,1,0], 1))  # Output: 2\n",
        "print(solution.minKBitFlips([1,1,0], 2))  # Output: -1\n",
        "print(solution.minKBitFlips([0,0,0,1,0,1,1,0], 3))  # Output: 3\n"
      ],
      "metadata": {
        "colab": {
          "base_uri": "https://localhost:8080/"
        },
        "id": "B-rLkGx-iHXY",
        "outputId": "a8f5f952-0a06-494b-bd2e-f64f25c4f34c"
      },
      "execution_count": null,
      "outputs": [
        {
          "output_type": "stream",
          "name": "stdout",
          "text": [
            "2\n",
            "-1\n",
            "3\n"
          ]
        }
      ]
    },
    {
      "cell_type": "code",
      "source": [
        "'Remove Duplicates'\n",
        "from typing import List\n",
        "\n",
        "class Solution:\n",
        "    def removeDuplicates(self, nums: List[int]) -> int:\n",
        "        if not nums:\n",
        "            return 0\n",
        "\n",
        "        write = 0\n",
        "        count = 1  # Count the occurrences of each element\n",
        "\n",
        "        for read in range(1, len(nums)):\n",
        "            if nums[read] == nums[read - 1]:\n",
        "                count += 1\n",
        "            else:\n",
        "                count = 1\n",
        "\n",
        "            if count <= 2:\n",
        "                write += 1\n",
        "                nums[write] = nums[read]\n",
        "\n",
        "        return write + 1\n",
        "\n",
        "# Example usage:\n",
        "solution = Solution()\n",
        "nums = [1,1,1,2,2,3]\n",
        "k = solution.removeDuplicates(nums)\n",
        "print(k)  # Output: 5\n",
        "print(nums[:k])  # Output: [1, 1, 2, 2, 3]\n",
        "\n",
        "nums = [0,0,1,1,1,1,2,3,3]\n",
        "k = solution.removeDuplicates(nums)\n",
        "print(k)  # Output: 7\n",
        "print(nums[:k])  # Output: [0, 0, 1, 1, 2, 3, 3]\n"
      ],
      "metadata": {
        "colab": {
          "base_uri": "https://localhost:8080/"
        },
        "id": "BjIb_DjaiRPA",
        "outputId": "b391dd9c-11ec-43ce-bf2a-69d707a9c8c2"
      },
      "execution_count": null,
      "outputs": [
        {
          "output_type": "stream",
          "name": "stdout",
          "text": [
            "5\n",
            "[1, 1, 2, 2, 3]\n",
            "7\n",
            "[0, 0, 1, 1, 2, 3, 3]\n"
          ]
        }
      ]
    },
    {
      "cell_type": "code",
      "source": [
        "'Major Elements'\n",
        "from typing import List\n",
        "\n",
        "class Solution:\n",
        "    def majorityElement(self, nums: List[int]) -> int:\n",
        "        candidate = None\n",
        "        count = 0\n",
        "\n",
        "        for num in nums:\n",
        "            if count == 0:\n",
        "                candidate = num\n",
        "            count += (1 if num == candidate else -1)\n",
        "\n",
        "        return candidate\n",
        "\n",
        "# Example usage:\n",
        "solution = Solution()\n",
        "print(solution.majorityElement([3,2,3]))  # Output: 3\n",
        "print(solution.majorityElement([2,2,1,1,1,2,2]))  # Output: 2\n"
      ],
      "metadata": {
        "colab": {
          "base_uri": "https://localhost:8080/"
        },
        "id": "IUb_y36miViQ",
        "outputId": "9176aba4-1eb2-4ad9-b985-2e2950544553"
      },
      "execution_count": null,
      "outputs": [
        {
          "output_type": "stream",
          "name": "stdout",
          "text": [
            "3\n",
            "2\n"
          ]
        }
      ]
    },
    {
      "cell_type": "code",
      "source": [
        "'Zigzag Conversion'\n",
        "class Solution:\n",
        "    def convert(self, s: str, numRows: int) -> str:\n",
        "        # Edge case for numRows being 1 or greater than or equal to the length of s\n",
        "        if numRows == 1 or numRows >= len(s):\n",
        "            return s\n",
        "\n",
        "        # Initialize a list for each row\n",
        "        rows = [''] * numRows\n",
        "        current_row = 0\n",
        "        going_down = False\n",
        "\n",
        "        # Iterate through each character in the string\n",
        "        for char in s:\n",
        "            rows[current_row] += char\n",
        "            # Change direction at the top or bottom row\n",
        "            if current_row == 0 or current_row == numRows - 1:\n",
        "                going_down = not going_down\n",
        "            # Update the current row based on the direction\n",
        "            current_row += 1 if going_down else -1\n",
        "\n",
        "        # Concatenate all rows to get the final result\n",
        "        return ''.join(rows)\n",
        "\n",
        "# Example usage:\n",
        "solution = Solution()\n",
        "print(solution.convert(\"PAYPALISHIRING\", 3))  # Output: \"PAHNAPLSIIGYIR\"\n"
      ],
      "metadata": {
        "colab": {
          "base_uri": "https://localhost:8080/"
        },
        "id": "VX9fje0hijc4",
        "outputId": "144403fd-0435-42fe-8129-a1feb3fd881f"
      },
      "execution_count": null,
      "outputs": [
        {
          "output_type": "stream",
          "name": "stdout",
          "text": [
            "PAHNAPLSIIGYIR\n"
          ]
        }
      ]
    },
    {
      "cell_type": "code",
      "source": [
        "'Reversing an integer'\n",
        "class Solution:\n",
        "    def reverse(self, x: int) -> int:\n",
        "        INT_MAX = 2**31 - 1\n",
        "        INT_MIN = -2**31\n",
        "\n",
        "        # Store the sign and work with the absolute value\n",
        "        sign = -1 if x < 0 else 1\n",
        "        x = abs(x)\n",
        "\n",
        "        reversed_num = 0\n",
        "\n",
        "        while x != 0:\n",
        "            digit = x % 10\n",
        "            x //= 10\n",
        "\n",
        "            # Check for overflow before actually adding the digit\n",
        "            if (reversed_num > INT_MAX // 10) or (reversed_num == INT_MAX // 10 and digit > INT_MAX % 10):\n",
        "                return 0\n",
        "            if (reversed_num < INT_MIN // 10) or (reversed_num == INT_MIN // 10 and -digit < INT_MIN % 10):\n",
        "                return 0\n",
        "\n",
        "            reversed_num = reversed_num * 10 + digit\n",
        "\n",
        "        return sign * reversed_num\n",
        "\n",
        "# Example usage:\n",
        "solution = Solution()\n",
        "print(solution.reverse(123))  # Output: 321\n",
        "print(solution.reverse(-123))  # Output: -321\n",
        "print(solution.reverse(120))  # Output: 21\n",
        "print(solution.reverse(0))  # Output: 0\n"
      ],
      "metadata": {
        "colab": {
          "base_uri": "https://localhost:8080/"
        },
        "id": "8YPJ3n1zil2g",
        "outputId": "148cd8d7-fcec-4cac-f012-ec425a95085c"
      },
      "execution_count": null,
      "outputs": [
        {
          "output_type": "stream",
          "name": "stdout",
          "text": [
            "321\n",
            "-321\n",
            "21\n",
            "0\n"
          ]
        }
      ]
    },
    {
      "cell_type": "code",
      "source": [
        "'3Sum'\n",
        "from typing import List\n",
        "\n",
        "class Solution:\n",
        "    def threeSum(self, nums: List[int]) -> List[List[int]]:\n",
        "        nums.sort()  # Sort the array\n",
        "        result = []\n",
        "\n",
        "        for i in range(len(nums) - 2):\n",
        "            # Avoid duplicates for the first element\n",
        "            if i > 0 and nums[i] == nums[i - 1]:\n",
        "                continue\n",
        "\n",
        "            left, right = i + 1, len(nums) - 1\n",
        "            while left < right:\n",
        "                total = nums[i] + nums[left] + nums[right]\n",
        "                if total == 0:\n",
        "                    result.append([nums[i], nums[left], nums[right]])\n",
        "\n",
        "                    # Skip duplicates for the second element\n",
        "                    while left < right and nums[left] == nums[left + 1]:\n",
        "                        left += 1\n",
        "                    # Skip duplicates for the third element\n",
        "                    while left < right and nums[right] == nums[right - 1]:\n",
        "                        right -= 1\n",
        "\n",
        "                    left += 1\n",
        "                    right -= 1\n",
        "                elif total < 0:\n",
        "                    left += 1\n",
        "                else:\n",
        "                    right -= 1\n",
        "\n",
        "        return result\n",
        "\n",
        "# Example usage:\n",
        "solution = Solution()\n",
        "print(solution.threeSum([-1,0,1,2,-1,-4]))  # Expected output: [[-1, -1, 2], [-1, 0, 1]]\n"
      ],
      "metadata": {
        "colab": {
          "base_uri": "https://localhost:8080/"
        },
        "id": "FI_IYJqairBI",
        "outputId": "0cda5846-323f-4fb2-cb0f-c5db73e4a89a"
      },
      "execution_count": null,
      "outputs": [
        {
          "output_type": "stream",
          "name": "stdout",
          "text": [
            "[[-1, -1, 2], [-1, 0, 1]]\n"
          ]
        }
      ]
    },
    {
      "cell_type": "code",
      "source": [
        "'Is Subsequence'\n",
        "class Solution:\n",
        "    def isSubsequence(self, s: str, t: str) -> bool:\n",
        "        # Initialize two pointers\n",
        "        s_pointer, t_pointer = 0, 0\n",
        "\n",
        "        # Iterate through both strings\n",
        "        while s_pointer < len(s) and t_pointer < len(t):\n",
        "            # If characters match, move the s pointer\n",
        "            if s[s_pointer] == t[t_pointer]:\n",
        "                s_pointer += 1\n",
        "            # Always move the t pointer\n",
        "            t_pointer += 1\n",
        "\n",
        "        # Check if all characters of s were found in t\n",
        "        return s_pointer == len(s)\n",
        "\n",
        "# Example usage:\n",
        "solution = Solution()\n",
        "print(solution.isSubsequence(\"abc\", \"ahbgdc\"))  # Output: true\n",
        "print(solution.isSubsequence(\"axc\", \"ahbgdc\"))  # Output: false\n"
      ],
      "metadata": {
        "colab": {
          "base_uri": "https://localhost:8080/"
        },
        "id": "VZ1LX4MHivog",
        "outputId": "87bb8dee-e95b-4848-e52c-eab06cca9805"
      },
      "execution_count": null,
      "outputs": [
        {
          "output_type": "stream",
          "name": "stdout",
          "text": [
            "True\n",
            "False\n"
          ]
        }
      ]
    },
    {
      "cell_type": "code",
      "source": [
        "'Maximum Area'\n",
        "from typing import List\n",
        "\n",
        "class Solution:\n",
        "    def maxArea(self, height: List[int]) -> int:\n",
        "        left, right = 0, len(height) - 1\n",
        "        max_area = 0\n",
        "\n",
        "        while left < right:\n",
        "            # Calculate the width and the height of the container\n",
        "            width = right - left\n",
        "            container_height = min(height[left], height[right])\n",
        "\n",
        "            # Calculate the current area\n",
        "            current_area = width * container_height\n",
        "            max_area = max(max_area, current_area)\n",
        "\n",
        "            # Move the pointers\n",
        "            if height[left] < height[right]:\n",
        "                left += 1\n",
        "            else:\n",
        "                right -= 1\n",
        "\n",
        "        return max_area\n",
        "\n",
        "# Example usage:\n",
        "solution = Solution()\n",
        "print(solution.maxArea([1,8,6,2,5,4,8,3,7]))  # Output: 49\n"
      ],
      "metadata": {
        "colab": {
          "base_uri": "https://localhost:8080/"
        },
        "id": "_82SXoXKixng",
        "outputId": "55bb973a-773e-4204-dd29-6af96e9bda17"
      },
      "execution_count": null,
      "outputs": [
        {
          "output_type": "stream",
          "name": "stdout",
          "text": [
            "49\n"
          ]
        }
      ]
    },
    {
      "cell_type": "code",
      "source": [
        "'Closest Sum To The Target'\n",
        "from typing import List\n",
        "\n",
        "class Solution:\n",
        "    def threeSumClosest(self, nums: List[int], target: int) -> int:\n",
        "        nums.sort()  # Step 1: Sort the array\n",
        "        closest_sum = float('inf')  # Initialize with infinity\n",
        "\n",
        "        for i in range(len(nums) - 2):  # Step 2: Iterate through the array\n",
        "            left, right = i + 1, len(nums) - 1\n",
        "\n",
        "            while left < right:  # Step 3: Two-pointer technique\n",
        "                current_sum = nums[i] + nums[left] + nums[right]\n",
        "\n",
        "                # If the current sum is exactly the target, return it\n",
        "                if current_sum == target:\n",
        "                    return current_sum\n",
        "\n",
        "                # Update closest sum if the current sum is closer to the target\n",
        "                if abs(current_sum - target) < abs(closest_sum - target):\n",
        "                    closest_sum = current_sum\n",
        "\n",
        "                # Move the pointers\n",
        "                if current_sum < target:\n",
        "                    left += 1\n",
        "                else:\n",
        "                    right -= 1\n",
        "\n",
        "        return closest_sum  # Return the closest sum found\n",
        "\n",
        "# Example usage:\n",
        "solution = Solution()\n",
        "print(solution.threeSumClosest([-1, 2, 1, -4], 1))  # Output: 2\n",
        "print(solution.threeSumClosest([1, 1, 1, 0], -100))  # Output: 2\n"
      ],
      "metadata": {
        "colab": {
          "base_uri": "https://localhost:8080/"
        },
        "id": "lrsUm4jriziw",
        "outputId": "3694b8c3-c20b-4442-db0d-40245b61c76f"
      },
      "execution_count": null,
      "outputs": [
        {
          "output_type": "stream",
          "name": "stdout",
          "text": [
            "2\n",
            "2\n"
          ]
        }
      ]
    },
    {
      "cell_type": "code",
      "source": [
        "'Rotate Array'\n",
        "class Solution:\n",
        "    def rotate(self, nums: List[int], k: int) -> None:\n",
        "        n = len(nums)\n",
        "        k %= n  # To handle cases where k is larger than n\n",
        "        nums[:] = nums[-k:] + nums[:-k]"
      ],
      "metadata": {
        "id": "p6cIrX9oi1Xw"
      },
      "execution_count": null,
      "outputs": []
    },
    {
      "cell_type": "code",
      "source": [
        "'Best Time to Buy and Sell Stock'\n",
        "from typing import List\n",
        "class Solution:\n",
        "    def maxProfit(self, prices: List[int]) -> int:\n",
        "        min_price = float('inf')\n",
        "        max_profit = 0\n",
        "\n",
        "        for price in prices:\n",
        "            if price < min_price:\n",
        "                min_price = price\n",
        "            else:\n",
        "                max_profit = max(max_profit, price - min_price)\n",
        "\n",
        "        return max_profit"
      ],
      "metadata": {
        "id": "dPZ3w5gtkpJw"
      },
      "execution_count": null,
      "outputs": []
    },
    {
      "cell_type": "code",
      "source": [
        "'Best Time to Buy and Sell Stock II'\n",
        "from typing import List\n",
        "\n",
        "class Solution:\n",
        "    def maxProfit(self, prices: List[int]) -> int:\n",
        "        min_price = float('inf')\n",
        "        max_profit = 0\n",
        "\n",
        "        for price in prices:\n",
        "            if price < min_price:\n",
        "                min_price = price\n",
        "            elif price - min_price > max_profit:\n",
        "                max_profit = price - min_price\n",
        "\n",
        "        return max_profit\n",
        "\n",
        "# Example usage:\n",
        "solution = Solution()\n",
        "print(solution.maxProfit([7,1,5,3,6,4]))  # Output: 5\n",
        "print(solution.maxProfit([7,6,4,3,1]))  # Output: 0\n"
      ],
      "metadata": {
        "id": "ofLqlDVbkvhI"
      },
      "execution_count": null,
      "outputs": []
    },
    {
      "cell_type": "code",
      "source": [
        "'Jump Game'\n",
        "class Solution:\n",
        "    def canJump(self, nums: List[int]) -> bool:\n",
        "        max_reachable = 0\n",
        "\n",
        "        for i, num in enumerate(nums):\n",
        "            if i > max_reachable:\n",
        "                return False\n",
        "            max_reachable = max(max_reachable, i + num)\n",
        "\n",
        "        return True\n"
      ],
      "metadata": {
        "id": "4Q03nPLVkver"
      },
      "execution_count": null,
      "outputs": []
    },
    {
      "cell_type": "code",
      "source": [
        "'Jump Game II'\n",
        "class Solution:\n",
        "    def jump(self, nums: List[int]) -> int:\n",
        "        jumps = 0\n",
        "        current_end = 0\n",
        "        farthest = 0\n",
        "\n",
        "        for i in range(len(nums) - 1):\n",
        "            farthest = max(farthest, i + nums[i])\n",
        "            if i == current_end:\n",
        "                jumps += 1\n",
        "                current_end = farthest\n",
        "\n",
        "        return jumps\n"
      ],
      "metadata": {
        "id": "qTQo_n7ekvZh"
      },
      "execution_count": null,
      "outputs": []
    },
    {
      "cell_type": "code",
      "source": [
        "'H-Index'\n",
        "class Solution:\n",
        "    def hIndex(self, citations: List[int]) -> int:\n",
        "        citations.sort(reverse=True)\n",
        "        h_index = 0\n",
        "\n",
        "        for i, c in enumerate(citations):\n",
        "            if i + 1 <= c:\n",
        "                h_index = i + 1\n",
        "            else:\n",
        "                break\n",
        "\n",
        "        return h_index"
      ],
      "metadata": {
        "id": "0nuMhMk7kvXj"
      },
      "execution_count": null,
      "outputs": []
    },
    {
      "cell_type": "code",
      "source": [
        "'Insert Delete GetRandom O(1)'\n",
        "import random\n",
        "\n",
        "class RandomizedSet:\n",
        "\n",
        "    def __init__(self):\n",
        "        self.num_to_index = {}\n",
        "        self.nums = []\n",
        "\n",
        "    def insert(self, val: int) -> bool:\n",
        "        if val in self.num_to_index:\n",
        "            return False\n",
        "        self.num_to_index[val] = len(self.nums)\n",
        "        self.nums.append(val)\n",
        "        return True\n",
        "\n",
        "    def remove(self, val: int) -> bool:\n",
        "        if val not in self.num_to_index:\n",
        "            return False\n",
        "        # Swap the element to remove with the last element\n",
        "        index = self.num_to_index[val]\n",
        "        last_val = self.nums[-1]\n",
        "        self.nums[index] = last_val\n",
        "        self.num_to_index[last_val] = index\n",
        "        # Remove the last element\n",
        "        self.nums.pop()\n",
        "        del self.num_to_index[val]\n",
        "        return True\n",
        "\n",
        "    def getRandom(self) -> int:\n",
        "        return random.choice(self.nums)\n",
        "\n",
        "# Your RandomizedSet object will be instantiated and called as such:\n",
        "# obj = RandomizedSet()\n",
        "# param_1 = obj.insert(val)\n",
        "# param_2 = obj.remove(val)\n",
        "# param_3 = obj.getRandom()"
      ],
      "metadata": {
        "id": "P1TH7e12kvWA"
      },
      "execution_count": null,
      "outputs": []
    },
    {
      "cell_type": "code",
      "source": [
        "'Roman to Integer'\n",
        "class Solution:\n",
        "    def romanToInt(self, s: str) -> int:\n",
        "        roman_to_int = {\n",
        "            'I': 1,\n",
        "            'V': 5,\n",
        "            'X': 10,\n",
        "            'L': 50,\n",
        "            'C': 100,\n",
        "            'D': 500,\n",
        "            'M': 1000\n",
        "        }\n",
        "\n",
        "        total = 0\n",
        "        prev_value = 0\n",
        "\n",
        "        for char in reversed(s):\n",
        "            current_value = roman_to_int[char]\n",
        "            if current_value < prev_value:\n",
        "                total -= current_value\n",
        "            else:\n",
        "                total += current_value\n",
        "            prev_value = current_value\n",
        "\n",
        "        return total"
      ],
      "metadata": {
        "id": "cnQUDq-wkvUD"
      },
      "execution_count": null,
      "outputs": []
    },
    {
      "cell_type": "code",
      "source": [
        "'Integer to Roman'\n",
        "class Solution:\n",
        "    def intToRoman(self, num: int) -> str:\n",
        "        roman_numerals = [(1000, 'M'), (900, 'CM'), (500, 'D'),(400, 'CD'), (100, 'C'), (90, 'XC'), (50, 'L'), (40, 'XL'), (10, 'X'), (9, 'IX'), (5, 'V'), (4, 'IV'), (1, 'I')]\n",
        "        results = []\n",
        "        for value, symbol in roman_numerals:\n",
        "            while num >= value:\n",
        "                results.append(symbol)\n",
        "                num -= value\n",
        "        return ''.join(results)"
      ],
      "metadata": {
        "id": "oh5o4KFckvQw"
      },
      "execution_count": null,
      "outputs": []
    },
    {
      "cell_type": "code",
      "source": [
        "'Length of Last Word'\n",
        "class Solution:\n",
        "    def lengthOfLastWord(self, s: str) -> int:\n",
        "        return len(s.rstrip().split()[-1])"
      ],
      "metadata": {
        "id": "q-Qk2kN8kvNh"
      },
      "execution_count": null,
      "outputs": []
    },
    {
      "cell_type": "code",
      "source": [
        "'Longest Common Prefix'\n",
        "class Solution:\n",
        "    def longestCommonPrefix(self, strs: List[str]) -> str:\n",
        "        if not strs:\n",
        "            return \"\"\n",
        "\n",
        "        prefix = strs[0]\n",
        "\n",
        "        for string in strs[1:]:\n",
        "            while not string.startswith(prefix):\n",
        "                prefix = prefix[:-1]\n",
        "                if not prefix:\n",
        "                    return \"\"\n",
        "\n",
        "        return prefix"
      ],
      "metadata": {
        "id": "YUxFjOZrkvLg"
      },
      "execution_count": null,
      "outputs": []
    },
    {
      "cell_type": "code",
      "source": [
        "'Reverse Words in a String'\n",
        "class Solution:\n",
        "    def reverseWords(self, s: str) -> str:\n",
        "        return ' '.join(s.split()[::-1])"
      ],
      "metadata": {
        "id": "yoDJjWaIkvJ6"
      },
      "execution_count": null,
      "outputs": []
    },
    {
      "cell_type": "code",
      "source": [
        "'Find the Index of the First Occurrence in a String'\n",
        "class Solution:\n",
        "    def strStr(self, haystack: str, needle: str) -> int:\n",
        "        if not needle:\n",
        "            return 0\n",
        "        return haystack.find(needle)\n"
      ],
      "metadata": {
        "id": "o1cY5c3JkvEu"
      },
      "execution_count": null,
      "outputs": []
    },
    {
      "cell_type": "code",
      "source": [
        "'Valid Palindrome'\n",
        "class Solution:\n",
        "    def isPalindrome(self, s: str) -> bool:\n",
        "        # Step 1: Preprocess the string\n",
        "        filtered_chars = [char.lower() for char in s if char.isalnum()]\n",
        "        filtered_str = ''.join(filtered_chars)\n",
        "\n",
        "        # Step 2: Check if the filtered string is a palindrome\n",
        "        return filtered_str == filtered_str[::-1]\n",
        "\n",
        "# Example usage:\n",
        "solution = Solution()\n",
        "print(solution.isPalindrome(\"A man, a plan, a canal: Panama\"))  # Output: true\n",
        "print(solution.isPalindrome(\"race a car\"))  # Output: false\n"
      ],
      "metadata": {
        "id": "OPrsSQjIkvCi"
      },
      "execution_count": null,
      "outputs": []
    },
    {
      "cell_type": "code",
      "source": [
        "'Container With Most Water'\n",
        "class Solution:\n",
        "    def maxArea(self, height: List[int]) -> int:\n",
        "        left, right = 0, len(height) - 1\n",
        "        max_water = 0\n",
        "\n",
        "        while left < right:\n",
        "            width = right - left\n",
        "            max_water = max(max_water, min(height[left], height[right]) * width)\n",
        "\n",
        "            if height[left] < height[right]:\n",
        "                left += 1\n",
        "            else:\n",
        "                right -= 1\n",
        "        return max_water\n"
      ],
      "metadata": {
        "id": "PARj0F-mku-A"
      },
      "execution_count": null,
      "outputs": []
    },
    {
      "cell_type": "code",
      "source": [
        "'Longest Substring Without Repeating Characters'\n",
        "class Solution:\n",
        "    def lengthOfLongestSubstring(self, s: str) -> int:\n",
        "        char_set = set()\n",
        "        left = 0\n",
        "        max_length = 0\n",
        "\n",
        "        for right in range(len(s)):\n",
        "            while s[right] in char_set:\n",
        "                char_set.remove(s[left])\n",
        "                left += 1\n",
        "            char_set.add(s[right])\n",
        "            max_length = max(max_length, right - left + 1)\n",
        "\n",
        "        return max_length"
      ],
      "metadata": {
        "id": "mDx1ck8gku23"
      },
      "execution_count": null,
      "outputs": []
    },
    {
      "cell_type": "code",
      "source": [
        "'Two Sum'\n",
        "class Solution:\n",
        "    def twoSum(self, nums: List[int], target: int) -> List[int]:\n",
        "        hashmap = {}\n",
        "        for i, num in enumerate(nums):\n",
        "            complement = target - num\n",
        "            if complement in hashmap:\n",
        "                return [hashmap[complement], i]\n",
        "            hashmap[num] = i\n",
        "\n",
        "# Example usage:\n",
        "solution = Solution()\n",
        "result = solution.twoSum([2, 7, 11, 15], 9)  # Output: [0, 1]\n",
        "print(result)"
      ],
      "metadata": {
        "colab": {
          "base_uri": "https://localhost:8080/"
        },
        "id": "DyXM-yP2kuv5",
        "outputId": "9bde14a1-130f-4a5e-b53d-873ec37e4721"
      },
      "execution_count": null,
      "outputs": [
        {
          "output_type": "stream",
          "name": "stdout",
          "text": [
            "[0, 1]\n"
          ]
        }
      ]
    },
    {
      "cell_type": "code",
      "source": [
        "'Valid Parentheses'\n",
        "class Solution:\n",
        "    def isValid(self, s: str) -> bool:\n",
        "        # Define a mapping of closing to opening brackets\n",
        "        bracket_map = {')': '(', '}': '{', ']': '['}\n",
        "        stack = []\n",
        "\n",
        "        # Iterate through each character in the string\n",
        "        for char in s:\n",
        "            if char in bracket_map:\n",
        "                # Pop the topmost element from the stack if it is not empty, otherwise use a dummy value\n",
        "                top_element = stack.pop() if stack else '#'\n",
        "\n",
        "                # The mapping for the closing bracket doesn't match the stack's top element\n",
        "                if bracket_map[char] != top_element:\n",
        "                    return False\n",
        "            else:\n",
        "                # It's an opening bracket, push onto the stack\n",
        "                stack.append(char)\n",
        "\n",
        "        # If the stack is empty, all the brackets are matched correctly\n",
        "        return not stack\n",
        "\n",
        "# Example usage:\n",
        "solution = Solution()\n",
        "print(solution.isValid(\"()\"))  # Output: True\n",
        "print(solution.isValid(\"()[]{}\"))  # Output: True\n",
        "print(solution.isValid(\"(]\"))  # Output: False\n",
        "print(solution.isValid(\"([)]\"))  # Output: False\n",
        "print(solution.isValid(\"{[]}\"))  # Output: True"
      ],
      "metadata": {
        "id": "sjtoRBenkyXr"
      },
      "execution_count": null,
      "outputs": []
    },
    {
      "cell_type": "code",
      "source": [
        "'Merge Two Sorted Lists'\n",
        "from typing import Optional\n",
        "\n",
        "class ListNode:\n",
        "    def __init__(self, val=0, next: Optional['ListNode'] = None):\n",
        "        self.val = val\n",
        "        self.next = next\n",
        "\n",
        "\n",
        "class Solution:\n",
        "    def mergeTwoLists(self, list1: Optional['ListNode'], list2: Optional['ListNode']) -> Optional['ListNode']:\n",
        "        dummy = ListNode()\n",
        "        current = dummy\n",
        "\n",
        "        while list1 and list2:\n",
        "            if list1.val < list2.val:\n",
        "                current.next = list1\n",
        "                list1 = list1.next\n",
        "            else:\n",
        "                current.next = list2\n",
        "                list2 = list2.next\n",
        "            current = current.next\n",
        "\n",
        "        if list1:\n",
        "            current.next = list1\n",
        "        if list2:\n",
        "            current.next = list2\n",
        "\n",
        "        return dummy.next\n",
        "\n",
        "# Example usage:\n",
        "# Create ListNode objects for list1: 1 -> 2 -> 4\n",
        "list1 = ListNode(1, ListNode(2, ListNode(4)))\n",
        "\n",
        "# Create ListNode objects for list2: 1 -> 3 -> 4\n",
        "list2 = ListNode(1, ListNode(3, ListNode(4)))\n",
        "\n",
        "# Instantiate Solution and call mergeTwoLists\n",
        "solution = Solution()\n",
        "result = solution.mergeTwoLists(list1, list2)\n",
        "\n",
        "# Print merged list\n",
        "while result:\n",
        "    print(result.val, end=\" -> \" if result.next else \"\")\n",
        "    result = result.next\n"
      ],
      "metadata": {
        "colab": {
          "base_uri": "https://localhost:8080/"
        },
        "id": "vo9eD6k9kyRm",
        "outputId": "10273675-fb84-4ba2-a8d1-b046852c6d50"
      },
      "execution_count": null,
      "outputs": [
        {
          "output_type": "stream",
          "name": "stdout",
          "text": [
            "1 -> 1 -> 2 -> 3 -> 4 -> 4"
          ]
        }
      ]
    },
    {
      "cell_type": "code",
      "source": [
        "'Merge K Number of Sorted Lists'\n",
        "from typing import List, Optional\n",
        "import heapq\n",
        "\n",
        "class ListNode:\n",
        "    def __init__(self, val=0, next: Optional['ListNode'] = None):\n",
        "        self.val = val\n",
        "        self.next = next\n",
        "\n",
        "class Solution:\n",
        "    def mergeKLists(self, lists: List[Optional['ListNode']]) -> Optional['ListNode']:\n",
        "        min_heap = []\n",
        "\n",
        "        # Initialize the heap with the head of each list\n",
        "        for i, l in enumerate(lists):\n",
        "            if l:\n",
        "                heapq.heappush(min_heap, (l.val, i, l))\n",
        "\n",
        "        dummy = ListNode()\n",
        "        current = dummy\n",
        "\n",
        "        while min_heap:\n",
        "            val, i, node = heapq.heappop(min_heap)\n",
        "            current.next = node\n",
        "            current = current.next\n",
        "            if node.next:\n",
        "                heapq.heappush(min_heap, (node.next.val, i, node.next))\n",
        "\n",
        "        return dummy.next\n",
        "\n",
        "# Example usage:\n",
        "# Create ListNode objects for list1: 1 -> 4 -> 5\n",
        "list1 = ListNode(1, ListNode(4, ListNode(5)))\n",
        "\n",
        "# Create ListNode objects for list2: 1 -> 3 -> 4\n",
        "list2 = ListNode(1, ListNode(3, ListNode(4)))\n",
        "\n",
        "# Create ListNode objects for list3: 2 -> 6\n",
        "list3 = ListNode(2, ListNode(6))\n",
        "\n",
        "# Instantiate Solution and call mergeKLists\n",
        "solution = Solution()\n",
        "result = solution.mergeKLists([list1, list2, list3])\n",
        "\n",
        "# Print merged list\n",
        "while result:\n",
        "    print(result.val, end=\" -> \" if result.next else \"\")\n",
        "    result = result.next\n"
      ],
      "metadata": {
        "colab": {
          "base_uri": "https://localhost:8080/"
        },
        "id": "qTxSZ3pZkyO6",
        "outputId": "a1f22745-b36e-4aed-d2e2-5eedb586fe56"
      },
      "execution_count": null,
      "outputs": [
        {
          "output_type": "stream",
          "name": "stdout",
          "text": [
            "1 -> 1 -> 2 -> 3 -> 4 -> 4 -> 5 -> 6"
          ]
        }
      ]
    },
    {
      "cell_type": "code",
      "source": [
        "'Median of Two Sorted Arrays'\n",
        "class Solution:\n",
        "    def findMedianSortedArrays(self, nums1: List[int], nums2: List[int]) -> float:\n",
        "        nums = nums1 + nums2\n",
        "        nums.sort()\n",
        "        n = len(nums)\n",
        "        if n % 2 == 1:\n",
        "            return float(nums[n // 2])\n",
        "        else:\n",
        "            return (nums[n // 2 - 1] + nums[n // 2]) / 2\n",
        "\n",
        "# Example usage\n",
        "solution = Solution()\n",
        "print(solution.findMedianSortedArrays([1, 3], [2]))  # Output: 2.0"
      ],
      "metadata": {
        "id": "lvKcWwG4kyNf"
      },
      "execution_count": null,
      "outputs": []
    },
    {
      "cell_type": "code",
      "source": [
        "'Palindrome Number'\n",
        "class Solution:\n",
        "    def isPalindrome(self, x: int) -> bool:\n",
        "        if x < 0:\n",
        "            return False\n",
        "        original = x\n",
        "        reversed_num = 0\n",
        "        while x > 0:\n",
        "            reversed_num = reversed_num * 10 + x % 10\n",
        "            x //= 10\n",
        "        return original == reversed_num\n",
        "\n",
        "# Example usage\n",
        "solution = Solution()\n",
        "print(solution.isPalindrome(121))  # Output: True"
      ],
      "metadata": {
        "colab": {
          "base_uri": "https://localhost:8080/"
        },
        "id": "xtY5IglokyMF",
        "outputId": "11c57d0c-7fc4-419c-dce5-cc6e65dd476c"
      },
      "execution_count": null,
      "outputs": [
        {
          "output_type": "stream",
          "name": "stdout",
          "text": [
            "True\n"
          ]
        }
      ]
    },
    {
      "cell_type": "code",
      "source": [
        "'Sqrt(x)'\n",
        "class Solution:\n",
        "    def mySqrt(self, x: int) -> int:\n",
        "        if x == 0:\n",
        "            return 0\n",
        "        left, right = 1, x\n",
        "        while left <= right:\n",
        "            mid = (left + right) // 2\n",
        "            if mid * mid == x:\n",
        "                return mid\n",
        "            elif mid * mid < x:\n",
        "                left = mid + 1\n",
        "            else:\n",
        "                right = mid - 1\n",
        "        return right\n",
        "\n",
        "# Example usage\n",
        "solution = Solution()\n",
        "print(solution.mySqrt(8))  # Output: 2"
      ],
      "metadata": {
        "colab": {
          "base_uri": "https://localhost:8080/"
        },
        "id": "VOCKpMY2kyKo",
        "outputId": "7959c586-e3b1-441d-df47-387097ad43a0"
      },
      "execution_count": null,
      "outputs": [
        {
          "output_type": "stream",
          "name": "stdout",
          "text": [
            "2\n"
          ]
        }
      ]
    },
    {
      "cell_type": "code",
      "source": [
        "'Climbing Stairs'\n",
        "class Solution:\n",
        "    def climbStairs(self, n: int) -> int:\n",
        "        if n == 1:\n",
        "            return 1\n",
        "        if n == 2:\n",
        "            return 2\n",
        "\n",
        "        dp = [0] * (n + 1)\n",
        "        dp[1] = 1\n",
        "        dp[2] = 2\n",
        "\n",
        "        for i in range(3, n + 1):\n",
        "            dp[i] = dp[i - 1] + dp[i - 2]\n",
        "\n",
        "        return dp[n]\n",
        "\n",
        "# Example usage:\n",
        "solution = Solution()\n",
        "print(solution.climbStairs(2))  # Output: 2\n",
        "print(solution.climbStairs(3))  # Output: 3\n",
        "print(solution.climbStairs(4))  # Output: 5\n",
        "print(solution.climbStairs(5))  # Output: 8"
      ],
      "metadata": {
        "id": "EVI801askyIy"
      },
      "execution_count": null,
      "outputs": []
    },
    {
      "cell_type": "code",
      "source": [
        "'Longest Palindromic Substring'\n",
        "class Solution:\n",
        "    def longestPalindrome(self, s: str) -> str:\n",
        "        def expand_around_center(left: int, right: int) -> str:\n",
        "            while left >= 0 and right < len(s) and s[left] == s[right]:\n",
        "                left -= 1\n",
        "                right += 1\n",
        "            return s[left + 1:right]\n",
        "\n",
        "        longest = \"\"\n",
        "        for i in range(len(s)):\n",
        "            # Odd length palindrome\n",
        "            odd_palindrome = expand_around_center(i, i)\n",
        "            if len(odd_palindrome) > len(longest):\n",
        "                longest = odd_palindrome\n",
        "            # Even length palindrome\n",
        "            even_palindrome = expand_around_center(i, i + 1)\n",
        "            if len(even_palindrome) > len(longest):\n",
        "                longest = even_palindrome\n",
        "\n",
        "        return longest\n",
        "\n",
        "# Example usage\n",
        "solution = Solution()\n",
        "print(solution.longestPalindrome(\"babad\"))  # Output: \"bab\" or \"aba\"\n"
      ],
      "metadata": {
        "id": "E_JwJ0UwkyHR"
      },
      "execution_count": null,
      "outputs": []
    },
    {
      "cell_type": "code",
      "source": [
        "'Longest Path With Different Adjacent Characters'\n",
        "from collections import defaultdict\n",
        "\n",
        "class Solution:\n",
        "    def longestPath(self, parent: List[int], s: str) -> int:\n",
        "\n",
        "        tree = defaultdict(list)\n",
        "        for child, par in enumerate(parent):\n",
        "            if par != -1:\n",
        "                tree[par].append(child)\n",
        "\n",
        "        self.max_path = 0\n",
        "\n",
        "        def dfs(node):\n",
        "\n",
        "            if node not in tree:\n",
        "                return 1\n",
        "\n",
        "            max_len1, max_len2 = 0, 0\n",
        "            for child in tree[node]:\n",
        "                child_len = dfs(child)\n",
        "                if s[child] != s[node]:\n",
        "                    if child_len > max_len1:\n",
        "                        max_len2 = max_len1\n",
        "                        max_len1 = child_len\n",
        "                    elif child_len > max_len2:\n",
        "                        max_len2 = child_len\n",
        "\n",
        "            self.max_path = max(self.max_path, max_len1 + max_len2 + 1)\n",
        "            return max_len1 + 1\n",
        "\n",
        "\n",
        "        if len(parent) == 1:\n",
        "            return 1\n",
        "\n",
        "        dfs(0)\n",
        "        return self.max_path\n"
      ],
      "metadata": {
        "id": "YqOhyCyAkyEh"
      },
      "execution_count": null,
      "outputs": []
    },
    {
      "cell_type": "code",
      "source": [
        "'Fibonacci Number'\n",
        "class Solution:\n",
        "    def fib(self, n: int) -> int:\n",
        "        if n == 0:\n",
        "            return 0\n",
        "        elif n == 1:\n",
        "            return 1\n",
        "\n",
        "        # Initialize the first two Fibonacci numbers\n",
        "        a, b = 0, 1\n",
        "        for _ in range(2, n + 1):\n",
        "            a, b = b, a + b\n",
        "\n",
        "        return b\n",
        "solution = Solution()\n",
        "print(solution.fib(5))  # Output: 5\n"
      ],
      "metadata": {
        "id": "n-PaQEBMkyBo",
        "colab": {
          "base_uri": "https://localhost:8080/"
        },
        "outputId": "5bf10871-9503-4ad8-aa00-1e7154535da3"
      },
      "execution_count": 50,
      "outputs": [
        {
          "output_type": "stream",
          "name": "stdout",
          "text": [
            "5\n"
          ]
        }
      ]
    },
    {
      "cell_type": "code",
      "source": [
        "''"
      ],
      "metadata": {
        "id": "5acqh_4-kx_A"
      },
      "execution_count": null,
      "outputs": []
    },
    {
      "cell_type": "code",
      "source": [
        "''"
      ],
      "metadata": {
        "id": "SzCgd1Hwkx8T"
      },
      "execution_count": null,
      "outputs": []
    },
    {
      "cell_type": "code",
      "source": [
        "''"
      ],
      "metadata": {
        "id": "CZ8gtAjCkx3B"
      },
      "execution_count": null,
      "outputs": []
    },
    {
      "cell_type": "code",
      "source": [
        "''"
      ],
      "metadata": {
        "id": "BroBLMdEkxy-"
      },
      "execution_count": null,
      "outputs": []
    },
    {
      "cell_type": "code",
      "source": [
        "''"
      ],
      "metadata": {
        "id": "fPUhh_0kkxxL"
      },
      "execution_count": null,
      "outputs": []
    },
    {
      "cell_type": "code",
      "source": [
        "''"
      ],
      "metadata": {
        "id": "K3rq7QKfkxvz"
      },
      "execution_count": null,
      "outputs": []
    },
    {
      "cell_type": "code",
      "source": [
        "''"
      ],
      "metadata": {
        "id": "CcpD60OLkxtw"
      },
      "execution_count": null,
      "outputs": []
    },
    {
      "cell_type": "code",
      "source": [
        "''"
      ],
      "metadata": {
        "id": "QqjPvkDskxr4"
      },
      "execution_count": null,
      "outputs": []
    },
    {
      "cell_type": "code",
      "source": [
        "''"
      ],
      "metadata": {
        "id": "8VVQ_g26kxlp"
      },
      "execution_count": null,
      "outputs": []
    },
    {
      "cell_type": "code",
      "source": [
        "''"
      ],
      "metadata": {
        "id": "e4vUQ8q7kxjf"
      },
      "execution_count": null,
      "outputs": []
    },
    {
      "cell_type": "code",
      "source": [
        "''"
      ],
      "metadata": {
        "id": "cFgISXxCkxiB"
      },
      "execution_count": null,
      "outputs": []
    },
    {
      "cell_type": "code",
      "source": [
        "''"
      ],
      "metadata": {
        "id": "X1W0wO89kxeG"
      },
      "execution_count": null,
      "outputs": []
    },
    {
      "cell_type": "code",
      "source": [
        "''"
      ],
      "metadata": {
        "id": "h6P90IKtkxch"
      },
      "execution_count": null,
      "outputs": []
    },
    {
      "cell_type": "code",
      "source": [
        "''"
      ],
      "metadata": {
        "id": "G0Psq6I1kxbN"
      },
      "execution_count": null,
      "outputs": []
    },
    {
      "cell_type": "code",
      "source": [
        "''"
      ],
      "metadata": {
        "id": "dlKLEt96kxZQ"
      },
      "execution_count": null,
      "outputs": []
    },
    {
      "cell_type": "code",
      "source": [
        "''"
      ],
      "metadata": {
        "id": "4d4q9Oa_kxX9"
      },
      "execution_count": null,
      "outputs": []
    },
    {
      "cell_type": "code",
      "source": [
        "''"
      ],
      "metadata": {
        "id": "IB0g5k5tkxWT"
      },
      "execution_count": null,
      "outputs": []
    },
    {
      "cell_type": "code",
      "source": [
        "''"
      ],
      "metadata": {
        "id": "xwVTPpdkkxUw"
      },
      "execution_count": null,
      "outputs": []
    },
    {
      "cell_type": "code",
      "source": [
        "''"
      ],
      "metadata": {
        "id": "HFFak571kxS_"
      },
      "execution_count": null,
      "outputs": []
    },
    {
      "cell_type": "code",
      "source": [
        "''"
      ],
      "metadata": {
        "id": "5z-9Kw_BkxRo"
      },
      "execution_count": null,
      "outputs": []
    },
    {
      "cell_type": "code",
      "source": [
        "''"
      ],
      "metadata": {
        "id": "MkIkc8YVkxP0"
      },
      "execution_count": null,
      "outputs": []
    },
    {
      "cell_type": "code",
      "source": [
        "''"
      ],
      "metadata": {
        "id": "x8Wwfl-tkxNS"
      },
      "execution_count": null,
      "outputs": []
    },
    {
      "cell_type": "code",
      "source": [
        "''"
      ],
      "metadata": {
        "id": "7L00885FkxJT"
      },
      "execution_count": null,
      "outputs": []
    },
    {
      "cell_type": "code",
      "source": [
        "''"
      ],
      "metadata": {
        "id": "4BVbOhTFkxHd"
      },
      "execution_count": null,
      "outputs": []
    },
    {
      "cell_type": "code",
      "source": [
        "''"
      ],
      "metadata": {
        "id": "S5nMPBxKkxGC"
      },
      "execution_count": null,
      "outputs": []
    },
    {
      "cell_type": "code",
      "source": [
        "''"
      ],
      "metadata": {
        "id": "52_QU-JXkxEI"
      },
      "execution_count": null,
      "outputs": []
    },
    {
      "cell_type": "code",
      "source": [
        "''"
      ],
      "metadata": {
        "id": "5g32JQTokxCZ"
      },
      "execution_count": null,
      "outputs": []
    },
    {
      "cell_type": "code",
      "source": [
        "''"
      ],
      "metadata": {
        "id": "CgaExSCzkxAZ"
      },
      "execution_count": null,
      "outputs": []
    },
    {
      "cell_type": "code",
      "source": [
        "''"
      ],
      "metadata": {
        "id": "cB3Fxl8Vkw94"
      },
      "execution_count": null,
      "outputs": []
    },
    {
      "cell_type": "code",
      "source": [
        "''"
      ],
      "metadata": {
        "id": "s7JZfA8rkw7Q"
      },
      "execution_count": null,
      "outputs": []
    },
    {
      "cell_type": "code",
      "source": [
        "''"
      ],
      "metadata": {
        "id": "8C2ZnbZJkw4A"
      },
      "execution_count": null,
      "outputs": []
    },
    {
      "cell_type": "code",
      "source": [
        "''"
      ],
      "metadata": {
        "id": "7HoqxLmwkw1C"
      },
      "execution_count": null,
      "outputs": []
    },
    {
      "cell_type": "code",
      "source": [
        "''"
      ],
      "metadata": {
        "id": "Kwvvq-ZXkwzc"
      },
      "execution_count": null,
      "outputs": []
    },
    {
      "cell_type": "code",
      "source": [
        "''"
      ],
      "metadata": {
        "id": "L8WoJLkzkwx1"
      },
      "execution_count": null,
      "outputs": []
    },
    {
      "cell_type": "code",
      "source": [
        "''"
      ],
      "metadata": {
        "id": "bCWDzLSQkwwY"
      },
      "execution_count": null,
      "outputs": []
    },
    {
      "cell_type": "code",
      "source": [
        "''"
      ],
      "metadata": {
        "id": "vyW4r7dlkwui"
      },
      "execution_count": null,
      "outputs": []
    },
    {
      "cell_type": "code",
      "source": [
        "''"
      ],
      "metadata": {
        "id": "dKi0XwlYkwso"
      },
      "execution_count": null,
      "outputs": []
    },
    {
      "cell_type": "code",
      "source": [
        "''"
      ],
      "metadata": {
        "id": "YilF5WG8kwqh"
      },
      "execution_count": null,
      "outputs": []
    },
    {
      "cell_type": "code",
      "source": [
        "''"
      ],
      "metadata": {
        "id": "n-ZILtapkwoa"
      },
      "execution_count": null,
      "outputs": []
    },
    {
      "cell_type": "code",
      "source": [
        "''"
      ],
      "metadata": {
        "id": "pH0MkEIykwmI"
      },
      "execution_count": null,
      "outputs": []
    },
    {
      "cell_type": "code",
      "source": [
        "''"
      ],
      "metadata": {
        "id": "hLpHwe9fkwj4"
      },
      "execution_count": null,
      "outputs": []
    }
  ]
}
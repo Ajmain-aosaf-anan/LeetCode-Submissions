{
  "nbformat": 4,
  "nbformat_minor": 0,
  "metadata": {
    "colab": {
      "provenance": [],
      "authorship_tag": "ABX9TyMsQ7g5L6I7Jx9nuYhTTQUg",
      "include_colab_link": true
    },
    "kernelspec": {
      "name": "python3",
      "display_name": "Python 3"
    },
    "language_info": {
      "name": "python"
    }
  },
  "cells": [
    {
      "cell_type": "markdown",
      "metadata": {
        "id": "view-in-github",
        "colab_type": "text"
      },
      "source": [
        "<a href=\"https://colab.research.google.com/github/Ajmain-aosaf-anan/LeetCode-Submissions/blob/main/LeetCode_Submissions.ipynb\" target=\"_parent\"><img src=\"https://colab.research.google.com/assets/colab-badge.svg\" alt=\"Open In Colab\"/></a>"
      ]
    },
    {
      "cell_type": "code",
      "execution_count": null,
      "metadata": {
        "id": "qnfLiYhEaac9",
        "outputId": "cbee09df-d12a-4854-9bd1-4923476850ba",
        "colab": {
          "base_uri": "https://localhost:8080/"
        }
      },
      "outputs": [
        {
          "output_type": "stream",
          "name": "stdout",
          "text": [
            "Requirement already satisfied: matplotlib-venn in /usr/local/lib/python3.10/dist-packages (1.1.1)\n",
            "Requirement already satisfied: matplotlib in /usr/local/lib/python3.10/dist-packages (from matplotlib-venn) (3.8.0)\n",
            "Requirement already satisfied: numpy in /usr/local/lib/python3.10/dist-packages (from matplotlib-venn) (1.26.4)\n",
            "Requirement already satisfied: scipy in /usr/local/lib/python3.10/dist-packages (from matplotlib-venn) (1.13.1)\n",
            "Requirement already satisfied: contourpy>=1.0.1 in /usr/local/lib/python3.10/dist-packages (from matplotlib->matplotlib-venn) (1.3.1)\n",
            "Requirement already satisfied: cycler>=0.10 in /usr/local/lib/python3.10/dist-packages (from matplotlib->matplotlib-venn) (0.12.1)\n",
            "Requirement already satisfied: fonttools>=4.22.0 in /usr/local/lib/python3.10/dist-packages (from matplotlib->matplotlib-venn) (4.55.0)\n",
            "Requirement already satisfied: kiwisolver>=1.0.1 in /usr/local/lib/python3.10/dist-packages (from matplotlib->matplotlib-venn) (1.4.7)\n",
            "Requirement already satisfied: packaging>=20.0 in /usr/local/lib/python3.10/dist-packages (from matplotlib->matplotlib-venn) (24.2)\n",
            "Requirement already satisfied: pillow>=6.2.0 in /usr/local/lib/python3.10/dist-packages (from matplotlib->matplotlib-venn) (11.0.0)\n",
            "Requirement already satisfied: pyparsing>=2.3.1 in /usr/local/lib/python3.10/dist-packages (from matplotlib->matplotlib-venn) (3.2.0)\n",
            "Requirement already satisfied: python-dateutil>=2.7 in /usr/local/lib/python3.10/dist-packages (from matplotlib->matplotlib-venn) (2.8.2)\n",
            "Requirement already satisfied: six>=1.5 in /usr/local/lib/python3.10/dist-packages (from python-dateutil>=2.7->matplotlib->matplotlib-venn) (1.16.0)\n"
          ]
        }
      ],
      "source": [
        "!pip install matplotlib-venn"
      ]
    },
    {
      "cell_type": "code",
      "source": [
        "!apt-get -qq install -y libfluidsynth1"
      ],
      "metadata": {
        "id": "0O90jU4J6ME2",
        "outputId": "59b7652c-fdb1-4202-a881-d251dac7889a",
        "colab": {
          "base_uri": "https://localhost:8080/"
        }
      },
      "execution_count": null,
      "outputs": [
        {
          "output_type": "stream",
          "name": "stdout",
          "text": [
            "E: Package 'libfluidsynth1' has no installation candidate\n"
          ]
        }
      ]
    },
    {
      "cell_type": "code",
      "execution_count": null,
      "metadata": {
        "collapsed": true,
        "id": "-sTyeOpA6FY3"
      },
      "outputs": [],
      "source": [
        "'Merge Sorted Array'\n",
        "\n",
        "from typing import List\n",
        "\n",
        "class Solution:\n",
        "  def merge(self, nums1: List[int], m: int, nums2: List[int], n: int) -> None:\n",
        "        p1, p2, p = m - 1, n - 1, m + n - 1\n",
        "        while p1 >= 0 and p2 >= 0:\n",
        "            if nums1[p1] > nums2[p2]:\n",
        "                nums1[p] = nums1[p1]\n",
        "                p1 -= 1\n",
        "            else:\n",
        "                nums1[p] = nums2[p2]\n",
        "                p2 -= 1\n",
        "            p -= 1\n",
        "        while p2 >= 0:\n",
        "            nums1[p] = nums2[p2]\n",
        "            p2 -= 1\n",
        "            p -= 1\n"
      ]
    },
    {
      "cell_type": "code",
      "source": [
        "'Remove Element'\n",
        "\n",
        "from typing import List\n",
        "\n",
        "class Solution:\n",
        "    def removeElement(self, nums: List[int], val: int) -> int:\n",
        "        k = 0  # Pointer for the position to place non-val elements\n",
        "        for i in range(len(nums)):\n",
        "            if nums[i] != val:\n",
        "                nums[k] = nums[i]\n",
        "                k += 1\n",
        "        return k\n"
      ],
      "metadata": {
        "id": "l2QtIBToeOYQ"
      },
      "execution_count": null,
      "outputs": []
    },
    {
      "cell_type": "code",
      "source": [
        "'Remove Duplicates from Sorted Array'\n",
        "\n",
        "from typing import List\n",
        "\n",
        "class Solution:\n",
        "    def removeDuplicates(self, nums: List[int]) -> int:\n",
        "        if not nums:\n",
        "            return 0\n",
        "\n",
        "        k = 1\n",
        "        for i in range(1, len(nums)):\n",
        "            if nums[i] != nums[i - 1]:\n",
        "                nums[k] = nums[i]\n",
        "                k += 1\n",
        "        return k\n",
        "\n",
        "# Example usage:\n",
        "solution = Solution()\n",
        "nums = [1,1,1,2,2,3]\n",
        "k = solution.removeDuplicates(nums)\n",
        "print(k)  # Output: 5\n",
        "print(nums[:k])  # Output: [1, 1, 2, 2, 3]\n",
        "\n",
        "nums = [0,0,1,1,1,1,2,3,3]\n",
        "k = solution.removeDuplicates(nums)\n",
        "print(k)  # Output: 7\n",
        "print(nums[:k])  # Output: [0, 0, 1, 1, 2, 3, 3]"
      ],
      "metadata": {
        "colab": {
          "base_uri": "https://localhost:8080/"
        },
        "id": "YpRSWBnOhH-y",
        "outputId": "d6a8419c-9d57-45c2-bf3a-1db3d390e24b"
      },
      "execution_count": null,
      "outputs": [
        {
          "output_type": "stream",
          "name": "stdout",
          "text": [
            "3\n",
            "[1, 2, 3]\n",
            "4\n",
            "[0, 1, 2, 3]\n"
          ]
        }
      ]
    },
    {
      "cell_type": "code",
      "source": [
        "'Remove Duplicates from Sorted Array II'\n",
        "\n",
        "from typing import List\n",
        "\n",
        "class Solution:\n",
        "    def removeDuplicates(self, nums: List[int]) -> int:\n",
        "        if len(nums) <= 2:\n",
        "            return len(nums)\n",
        "        k = 2\n",
        "        for i in range(2, len(nums)):\n",
        "            if nums[i] != nums[k - 2]:\n",
        "                nums[k] = nums[i]\n",
        "                k += 1\n",
        "        return k\n",
        "\n",
        "# Example usage:\n",
        "solution = Solution()\n",
        "nums = [1,1,1,2,2,3]\n",
        "k = solution.removeDuplicates(nums)\n",
        "print(k)  # Output: 5\n",
        "print(nums[:k])  # Output: [1, 1, 2, 2, 3]\n",
        "\n",
        "nums = [0,0,1,1,1,1,2,3,3]\n",
        "k = solution.removeDuplicates(nums)\n",
        "print(k)  # Output: 7\n",
        "print(nums[:k])  # Output: [0, 0, 1, 1, 2, 3, 3]"
      ],
      "metadata": {
        "colab": {
          "base_uri": "https://localhost:8080/"
        },
        "id": "_or6WJxGhPHo",
        "outputId": "23851957-8f58-4d76-a484-f3fb5f81fb78"
      },
      "execution_count": null,
      "outputs": [
        {
          "output_type": "stream",
          "name": "stdout",
          "text": [
            "5\n",
            "[1, 1, 2, 2, 3]\n",
            "7\n",
            "[0, 0, 1, 1, 2, 3, 3]\n"
          ]
        }
      ]
    },
    {
      "cell_type": "code",
      "source": [
        "'Flipping Bits'\n",
        "\n",
        "from typing import List\n",
        "\n",
        "class Solution:\n",
        "    def minKBitFlips(self, nums: List[int], k: int) -> int:\n",
        "        n = len(nums)\n",
        "        flip = [0] * n\n",
        "        flips = 0\n",
        "        flip_effect = 0\n",
        "\n",
        "        for i in range(n):\n",
        "            # Removes the effect of the flip that has gone out of the window\n",
        "            if i >= k:\n",
        "                flip_effect ^= flip[i - k]\n",
        "\n",
        "            # Determines the current state of the bit considering flip effects\n",
        "            if nums[i] == flip_effect:\n",
        "                # If we are at a zero after accounting for flip effects, we need to flip\n",
        "                if i + k > n:\n",
        "                    # Not enough space to perform a k-length flip\n",
        "                    return -1\n",
        "                # Performs the flip\n",
        "                flip[i] = 1\n",
        "                flip_effect ^= 1\n",
        "                flips += 1\n",
        "\n",
        "        return flips\n",
        "\n",
        "# Example usage:\n",
        "solution = Solution()\n",
        "print(solution.minKBitFlips([0,1,0], 1))  # Output: 2\n",
        "print(solution.minKBitFlips([1,1,0], 2))  # Output: -1\n",
        "print(solution.minKBitFlips([0,0,0,1,0,1,1,0], 3))  # Output: 3\n"
      ],
      "metadata": {
        "colab": {
          "base_uri": "https://localhost:8080/"
        },
        "id": "B-rLkGx-iHXY",
        "outputId": "2b3cf278-a7f0-478b-f474-825b42f6411f"
      },
      "execution_count": null,
      "outputs": [
        {
          "output_type": "stream",
          "name": "stdout",
          "text": [
            "2\n",
            "-1\n",
            "3\n"
          ]
        }
      ]
    },
    {
      "cell_type": "code",
      "source": [
        "'Remove Duplicates'\n",
        "\n",
        "from typing import List\n",
        "\n",
        "class Solution:\n",
        "    def removeDuplicates(self, nums: List[int]) -> int:\n",
        "        if not nums:\n",
        "            return 0\n",
        "\n",
        "        write = 0\n",
        "        count = 1  # Counts the occurrences of each element\n",
        "\n",
        "        for read in range(1, len(nums)):\n",
        "            if nums[read] == nums[read - 1]:\n",
        "                count += 1\n",
        "            else:\n",
        "                count = 1\n",
        "\n",
        "            if count <= 2:\n",
        "                write += 1\n",
        "                nums[write] = nums[read]\n",
        "\n",
        "        return write + 1\n",
        "\n",
        "# Example usages:\n",
        "solution = Solution()\n",
        "nums = [1,1,1,2,2,3]\n",
        "k = solution.removeDuplicates(nums)\n",
        "print(k)  # Output: 5\n",
        "print(nums[:k])  # Output: [1, 1, 2, 2, 3]\n",
        "\n",
        "nums = [0,0,1,1,1,1,2,3,3]\n",
        "k = solution.removeDuplicates(nums)\n",
        "print(k)  # Output: 7\n",
        "print(nums[:k])  # Output: [0, 0, 1, 1, 2, 3, 3]\n"
      ],
      "metadata": {
        "colab": {
          "base_uri": "https://localhost:8080/"
        },
        "id": "BjIb_DjaiRPA",
        "outputId": "248c4867-c0e1-4a04-94b3-994c37bdbf43"
      },
      "execution_count": null,
      "outputs": [
        {
          "output_type": "stream",
          "name": "stdout",
          "text": [
            "5\n",
            "[1, 1, 2, 2, 3]\n",
            "7\n",
            "[0, 0, 1, 1, 2, 3, 3]\n"
          ]
        }
      ]
    },
    {
      "cell_type": "code",
      "source": [
        "'Major Elements'\n",
        "\n",
        "from typing import List\n",
        "\n",
        "class Solution:\n",
        "    def majorityElement(self, nums: List[int]) -> int:\n",
        "        candidate = None\n",
        "        count = 0\n",
        "\n",
        "        for num in nums:\n",
        "            if count == 0:\n",
        "                candidate = num\n",
        "            count += (1 if num == candidate else -1)\n",
        "\n",
        "        return candidate\n",
        "\n",
        "# Example usage:\n",
        "solution = Solution()\n",
        "print(solution.majorityElement([3,2,3]))  # Output: 3\n",
        "print(solution.majorityElement([2,2,1,1,1,2,2]))  # Output: 2\n"
      ],
      "metadata": {
        "colab": {
          "base_uri": "https://localhost:8080/"
        },
        "id": "IUb_y36miViQ",
        "outputId": "9d2ba520-167e-4a85-fcf4-3ad88dfd4c8b"
      },
      "execution_count": null,
      "outputs": [
        {
          "output_type": "stream",
          "name": "stdout",
          "text": [
            "3\n",
            "2\n"
          ]
        }
      ]
    },
    {
      "cell_type": "code",
      "source": [
        "'Zigzag Conversion'\n",
        "\n",
        "class Solution:\n",
        "    def convert(self, s: str, numRows: int) -> str:\n",
        "        # Edge cases for numRows being 1 or greater than or equal to the length of s\n",
        "        if numRows == 1 or numRows >= len(s):\n",
        "            return s\n",
        "\n",
        "        # Initializes a list for each row\n",
        "        rows = [''] * numRows\n",
        "        current_row = 0\n",
        "        going_down = False\n",
        "\n",
        "        # Iterates through each character in the string\n",
        "        for char in s:\n",
        "            rows[current_row] += char\n",
        "            # Changes direction at the top or bottom row\n",
        "            if current_row == 0 or current_row == numRows - 1:\n",
        "                going_down = not going_down\n",
        "            # Updates the current row based on the direction\n",
        "            current_row += 1 if going_down else -1\n",
        "\n",
        "        # Concatenates all rows to get the final result\n",
        "        return ''.join(rows)\n",
        "\n",
        "# Example usage:\n",
        "solution = Solution()\n",
        "print(solution.convert(\"PAYPALISHIRING\", 3))  # Output: \"PAHNAPLSIIGYIR\"\n"
      ],
      "metadata": {
        "colab": {
          "base_uri": "https://localhost:8080/"
        },
        "id": "VX9fje0hijc4",
        "outputId": "1f89509f-371d-4892-946f-324c1bb1f066"
      },
      "execution_count": null,
      "outputs": [
        {
          "output_type": "stream",
          "name": "stdout",
          "text": [
            "PAHNAPLSIIGYIR\n"
          ]
        }
      ]
    },
    {
      "cell_type": "code",
      "source": [
        "'Reversing an integer'\n",
        "\n",
        "class Solution:\n",
        "    def reverse(self, x: int) -> int:\n",
        "        INT_MAX = 2**31 - 1\n",
        "        INT_MIN = -2**31\n",
        "\n",
        "        # Stores the sign and work with the absolute value\n",
        "        sign = -1 if x < 0 else 1\n",
        "        x = abs(x)\n",
        "\n",
        "        reversed_num = 0\n",
        "\n",
        "        while x != 0:\n",
        "            digit = x % 10\n",
        "            x //= 10\n",
        "\n",
        "            # Checks for overflow before actually adding the digit\n",
        "            if (reversed_num > INT_MAX // 10) or (reversed_num == INT_MAX // 10 and digit > INT_MAX % 10):\n",
        "                return 0\n",
        "            if (reversed_num < INT_MIN // 10) or (reversed_num == INT_MIN // 10 and -digit < INT_MIN % 10):\n",
        "                return 0\n",
        "\n",
        "            reversed_num = reversed_num * 10 + digit\n",
        "\n",
        "        return sign * reversed_num\n",
        "\n",
        "# Example usage:\n",
        "solution = Solution()\n",
        "print(solution.reverse(123))  # Output: 321\n",
        "print(solution.reverse(-123))  # Output: -321\n",
        "print(solution.reverse(120))  # Output: 21\n",
        "print(solution.reverse(0))  # Output: 0\n"
      ],
      "metadata": {
        "colab": {
          "base_uri": "https://localhost:8080/"
        },
        "id": "8YPJ3n1zil2g",
        "outputId": "220e1628-aae5-4290-c366-b1fab8b8b4e9"
      },
      "execution_count": null,
      "outputs": [
        {
          "output_type": "stream",
          "name": "stdout",
          "text": [
            "321\n",
            "-321\n",
            "21\n",
            "0\n"
          ]
        }
      ]
    },
    {
      "cell_type": "code",
      "source": [
        "'3Sum'\n",
        "\n",
        "from typing import List\n",
        "\n",
        "class Solution:\n",
        "    def threeSum(self, nums: List[int]) -> List[List[int]]:\n",
        "        nums.sort()  # Sort the array\n",
        "        result = []\n",
        "\n",
        "        for i in range(len(nums) - 2):\n",
        "            # Avoids duplicates for the first element\n",
        "            if i > 0 and nums[i] == nums[i - 1]:\n",
        "                continue\n",
        "\n",
        "            left, right = i + 1, len(nums) - 1\n",
        "            while left < right:\n",
        "                total = nums[i] + nums[left] + nums[right]\n",
        "                if total == 0:\n",
        "                    result.append([nums[i], nums[left], nums[right]])\n",
        "\n",
        "                    # Skips duplicates for the second element\n",
        "                    while left < right and nums[left] == nums[left + 1]:\n",
        "                        left += 1\n",
        "                    # Skips duplicates for the third element\n",
        "                    while left < right and nums[right] == nums[right - 1]:\n",
        "                        right -= 1\n",
        "\n",
        "                    left += 1\n",
        "                    right -= 1\n",
        "                elif total < 0:\n",
        "                    left += 1\n",
        "                else:\n",
        "                    right -= 1\n",
        "\n",
        "        return result\n",
        "\n",
        "# Example usage:\n",
        "solution = Solution()\n",
        "print(solution.threeSum([-1,0,1,2,-1,-4]))  # Expected output: [[-1, -1, 2], [-1, 0, 1]]\n"
      ],
      "metadata": {
        "colab": {
          "base_uri": "https://localhost:8080/"
        },
        "id": "FI_IYJqairBI",
        "outputId": "f7f99ea9-ac75-481f-b9e9-5d401fde3a15"
      },
      "execution_count": null,
      "outputs": [
        {
          "output_type": "stream",
          "name": "stdout",
          "text": [
            "[[-1, -1, 2], [-1, 0, 1]]\n"
          ]
        }
      ]
    },
    {
      "cell_type": "code",
      "source": [
        "'Is Subsequence'\n",
        "\n",
        "class Solution:\n",
        "    def isSubsequence(self, s: str, t: str) -> bool:\n",
        "        # Initializes two pointers\n",
        "        s_pointer, t_pointer = 0, 0\n",
        "\n",
        "        # Iterates through both strings\n",
        "        while s_pointer < len(s) and t_pointer < len(t):\n",
        "            # If characters match, move the s pointer\n",
        "            if s[s_pointer] == t[t_pointer]:\n",
        "                s_pointer += 1\n",
        "            # Always move the t pointer\n",
        "            t_pointer += 1\n",
        "\n",
        "        # Checks if all characters of s were found in t\n",
        "        return s_pointer == len(s)\n",
        "\n",
        "# Example usage:\n",
        "solution = Solution()\n",
        "print(solution.isSubsequence(\"abc\", \"ahbgdc\"))  # Output: true\n",
        "print(solution.isSubsequence(\"axc\", \"ahbgdc\"))  # Output: false\n"
      ],
      "metadata": {
        "colab": {
          "base_uri": "https://localhost:8080/"
        },
        "id": "VZ1LX4MHivog",
        "outputId": "ab592aba-535d-4254-b211-6a118d18cfb1"
      },
      "execution_count": null,
      "outputs": [
        {
          "output_type": "stream",
          "name": "stdout",
          "text": [
            "True\n",
            "False\n"
          ]
        }
      ]
    },
    {
      "cell_type": "code",
      "source": [
        "'Maximum Area'\n",
        "\n",
        "from typing import List\n",
        "\n",
        "class Solution:\n",
        "    def maxArea(self, height: List[int]) -> int:\n",
        "        left, right = 0, len(height) - 1\n",
        "        max_area = 0\n",
        "\n",
        "        while left < right:\n",
        "            # Calculates the width and the height of the container\n",
        "            width = right - left\n",
        "            container_height = min(height[left], height[right])\n",
        "\n",
        "            # Calculates the current area\n",
        "            current_area = width * container_height\n",
        "            max_area = max(max_area, current_area)\n",
        "\n",
        "            # Moves the pointers\n",
        "            if height[left] < height[right]:\n",
        "                left += 1\n",
        "            else:\n",
        "                right -= 1\n",
        "\n",
        "        return max_area\n",
        "\n",
        "# Example usage:\n",
        "solution = Solution()\n",
        "print(solution.maxArea([1,8,6,2,5,4,8,3,7]))  # Output: 49\n"
      ],
      "metadata": {
        "colab": {
          "base_uri": "https://localhost:8080/"
        },
        "id": "_82SXoXKixng",
        "outputId": "7227f7c8-85aa-40da-ffb5-97bd4cd24410"
      },
      "execution_count": null,
      "outputs": [
        {
          "output_type": "stream",
          "name": "stdout",
          "text": [
            "49\n"
          ]
        }
      ]
    },
    {
      "cell_type": "code",
      "source": [
        "'Closest Sum To The Target'\n",
        "\n",
        "from typing import List\n",
        "\n",
        "class Solution:\n",
        "    def threeSumClosest(self, nums: List[int], target: int) -> int:\n",
        "        nums.sort()  # Step 1: Sort the array\n",
        "        closest_sum = float('inf')  # Initializes with infinity\n",
        "\n",
        "        for i in range(len(nums) - 2):  # Step 2: Iterate through the array\n",
        "            left, right = i + 1, len(nums) - 1\n",
        "\n",
        "            while left < right:  # Step 3: Two-pointer technique\n",
        "                current_sum = nums[i] + nums[left] + nums[right]\n",
        "\n",
        "                # If the current sum is exactly the target, return it\n",
        "                if current_sum == target:\n",
        "                    return current_sum\n",
        "\n",
        "                # Updates closest sum if the current sum is closer to the target\n",
        "                if abs(current_sum - target) < abs(closest_sum - target):\n",
        "                    closest_sum = current_sum\n",
        "\n",
        "                # Move the pointers\n",
        "                if current_sum < target:\n",
        "                    left += 1\n",
        "                else:\n",
        "                    right -= 1\n",
        "\n",
        "        return closest_sum  # Returns the closest sum found\n",
        "\n",
        "# Example usage:\n",
        "solution = Solution()\n",
        "print(solution.threeSumClosest([-1, 2, 1, -4], 1))  # Output: 2\n",
        "print(solution.threeSumClosest([1, 1, 1, 0], -100))  # Output: 2\n"
      ],
      "metadata": {
        "colab": {
          "base_uri": "https://localhost:8080/"
        },
        "id": "lrsUm4jriziw",
        "outputId": "3cdd15f2-1322-4b67-db97-3b752bca21c3"
      },
      "execution_count": null,
      "outputs": [
        {
          "output_type": "stream",
          "name": "stdout",
          "text": [
            "2\n",
            "2\n"
          ]
        }
      ]
    },
    {
      "cell_type": "code",
      "source": [
        "'Rotate Array'\n",
        "\n",
        "class Solution:\n",
        "    def rotate(self, nums: List[int], k: int) -> None:\n",
        "        n = len(nums)\n",
        "        k %= n  # To handle cases where k is larger than n\n",
        "        nums[:] = nums[-k:] + nums[:-k]"
      ],
      "metadata": {
        "id": "p6cIrX9oi1Xw"
      },
      "execution_count": null,
      "outputs": []
    },
    {
      "cell_type": "code",
      "source": [
        "'Best Time to Buy and Sell Stock'\n",
        "\n",
        "from typing import List\n",
        "class Solution:\n",
        "    def maxProfit(self, prices: List[int]) -> int:\n",
        "        min_price = float('inf')\n",
        "        max_profit = 0\n",
        "\n",
        "        for price in prices:\n",
        "            if price < min_price:\n",
        "                min_price = price\n",
        "            else:\n",
        "                max_profit = max(max_profit, price - min_price)\n",
        "\n",
        "        return max_profit"
      ],
      "metadata": {
        "id": "dPZ3w5gtkpJw"
      },
      "execution_count": null,
      "outputs": []
    },
    {
      "cell_type": "code",
      "source": [
        "'Best Time to Buy and Sell Stock II'\n",
        "\n",
        "from typing import List\n",
        "\n",
        "class Solution:\n",
        "    def maxProfit(self, prices: List[int]) -> int:\n",
        "        min_price = float('inf')\n",
        "        max_profit = 0\n",
        "\n",
        "        for price in prices:\n",
        "            if price < min_price:\n",
        "                min_price = price\n",
        "            elif price - min_price > max_profit:\n",
        "                max_profit = price - min_price\n",
        "\n",
        "        return max_profit\n",
        "\n",
        "# Example usage:\n",
        "solution = Solution()\n",
        "print(solution.maxProfit([7,1,5,3,6,4]))  # Output: 5\n",
        "print(solution.maxProfit([7,6,4,3,1]))  # Output: 0\n"
      ],
      "metadata": {
        "id": "ofLqlDVbkvhI",
        "outputId": "b5155514-be19-4bdd-c5af-8dd9f95f57c7",
        "colab": {
          "base_uri": "https://localhost:8080/"
        }
      },
      "execution_count": null,
      "outputs": [
        {
          "output_type": "stream",
          "name": "stdout",
          "text": [
            "5\n",
            "0\n"
          ]
        }
      ]
    },
    {
      "cell_type": "code",
      "source": [
        "'Jump Game'\n",
        "\n",
        "class Solution:\n",
        "    def canJump(self, nums: List[int]) -> bool:\n",
        "        max_reachable = 0\n",
        "\n",
        "        for i, num in enumerate(nums):\n",
        "            if i > max_reachable:\n",
        "                return False\n",
        "            max_reachable = max(max_reachable, i + num)\n",
        "\n",
        "        return True\n"
      ],
      "metadata": {
        "id": "4Q03nPLVkver"
      },
      "execution_count": null,
      "outputs": []
    },
    {
      "cell_type": "code",
      "source": [
        "'Jump Game II'\n",
        "\n",
        "class Solution:\n",
        "    def jump(self, nums: List[int]) -> int:\n",
        "        jumps = 0\n",
        "        current_end = 0\n",
        "        farthest = 0\n",
        "\n",
        "        for i in range(len(nums) - 1):\n",
        "            farthest = max(farthest, i + nums[i])\n",
        "            if i == current_end:\n",
        "                jumps += 1\n",
        "                current_end = farthest\n",
        "\n",
        "        return jumps\n"
      ],
      "metadata": {
        "id": "qTQo_n7ekvZh"
      },
      "execution_count": null,
      "outputs": []
    },
    {
      "cell_type": "code",
      "source": [
        "'H-Index'\n",
        "\n",
        "class Solution:\n",
        "    def hIndex(self, citations: List[int]) -> int:\n",
        "        citations.sort(reverse=True)\n",
        "        h_index = 0\n",
        "\n",
        "        for i, c in enumerate(citations):\n",
        "            if i + 1 <= c:\n",
        "                h_index = i + 1\n",
        "            else:\n",
        "                break\n",
        "\n",
        "        return h_index"
      ],
      "metadata": {
        "id": "0nuMhMk7kvXj"
      },
      "execution_count": null,
      "outputs": []
    },
    {
      "cell_type": "code",
      "source": [
        "'Insert Delete GetRandom O(1)'\n",
        "\n",
        "import random\n",
        "\n",
        "class RandomizedSet:\n",
        "\n",
        "    def __init__(self):\n",
        "        self.num_to_index = {}\n",
        "        self.nums = []\n",
        "\n",
        "    def insert(self, val: int) -> bool:\n",
        "        if val in self.num_to_index:\n",
        "            return False\n",
        "        self.num_to_index[val] = len(self.nums)\n",
        "        self.nums.append(val)\n",
        "        return True\n",
        "\n",
        "    def remove(self, val: int) -> bool:\n",
        "        if val not in self.num_to_index:\n",
        "            return False\n",
        "        # Swaps the element to remove with the last element\n",
        "        index = self.num_to_index[val]\n",
        "        last_val = self.nums[-1]\n",
        "        self.nums[index] = last_val\n",
        "        self.num_to_index[last_val] = index\n",
        "        # Remove the last element\n",
        "        self.nums.pop()\n",
        "        del self.num_to_index[val]\n",
        "        return True\n",
        "\n",
        "    def getRandom(self) -> int:\n",
        "        return random.choice(self.nums)\n",
        "\n",
        "\n",
        "# obj = RandomizedSet()\n",
        "# param_1 = obj.insert(val)\n",
        "# param_2 = obj.remove(val)\n",
        "# param_3 = obj.getRandom()"
      ],
      "metadata": {
        "id": "P1TH7e12kvWA"
      },
      "execution_count": null,
      "outputs": []
    },
    {
      "cell_type": "code",
      "source": [
        "'Roman to Integer'\n",
        "\n",
        "class Solution:\n",
        "    def romanToInt(self, s: str) -> int:\n",
        "        roman_to_int = {\n",
        "            'I': 1,\n",
        "            'V': 5,\n",
        "            'X': 10,\n",
        "            'L': 50,\n",
        "            'C': 100,\n",
        "            'D': 500,\n",
        "            'M': 1000\n",
        "        }\n",
        "\n",
        "        total = 0\n",
        "        prev_value = 0\n",
        "\n",
        "        for char in reversed(s):\n",
        "            current_value = roman_to_int[char]\n",
        "            if current_value < prev_value:\n",
        "                total -= current_value\n",
        "            else:\n",
        "                total += current_value\n",
        "            prev_value = current_value\n",
        "\n",
        "        return total"
      ],
      "metadata": {
        "id": "cnQUDq-wkvUD"
      },
      "execution_count": null,
      "outputs": []
    },
    {
      "cell_type": "code",
      "source": [
        "'Integer to Roman'\n",
        "\n",
        "class Solution:\n",
        "    def intToRoman(self, num: int) -> str:\n",
        "        roman_numerals = [(1000, 'M'), (900, 'CM'), (500, 'D'),(400, 'CD'), (100, 'C'), (90, 'XC'), (50, 'L'), (40, 'XL'), (10, 'X'), (9, 'IX'), (5, 'V'), (4, 'IV'), (1, 'I')]\n",
        "        results = []\n",
        "        for value, symbol in roman_numerals:\n",
        "            while num >= value:\n",
        "                results.append(symbol)\n",
        "                num -= value\n",
        "        return ''.join(results)"
      ],
      "metadata": {
        "id": "oh5o4KFckvQw"
      },
      "execution_count": null,
      "outputs": []
    },
    {
      "cell_type": "code",
      "source": [
        "'Length of Last Word'\n",
        "\n",
        "class Solution:\n",
        "    def lengthOfLastWord(self, s: str) -> int:\n",
        "        return len(s.rstrip().split()[-1])"
      ],
      "metadata": {
        "id": "q-Qk2kN8kvNh"
      },
      "execution_count": null,
      "outputs": []
    },
    {
      "cell_type": "code",
      "source": [
        "'Longest Common Prefix'\n",
        "\n",
        "class Solution:\n",
        "    def longestCommonPrefix(self, strs: List[str]) -> str:\n",
        "        if not strs:\n",
        "            return \"\"\n",
        "\n",
        "        prefix = strs[0]\n",
        "\n",
        "        for string in strs[1:]:\n",
        "            while not string.startswith(prefix):\n",
        "                prefix = prefix[:-1]\n",
        "                if not prefix:\n",
        "                    return \"\"\n",
        "\n",
        "        return prefix"
      ],
      "metadata": {
        "id": "YUxFjOZrkvLg"
      },
      "execution_count": null,
      "outputs": []
    },
    {
      "cell_type": "code",
      "source": [
        "'Reverse Words in a String'\n",
        "\n",
        "class Solution:\n",
        "    def reverseWords(self, s: str) -> str:\n",
        "        return ' '.join(s.split()[::-1])"
      ],
      "metadata": {
        "id": "yoDJjWaIkvJ6"
      },
      "execution_count": null,
      "outputs": []
    },
    {
      "cell_type": "code",
      "source": [
        "'Find the Index of the First Occurrence in a String'\n",
        "\n",
        "class Solution:\n",
        "    def strStr(self, haystack: str, needle: str) -> int:\n",
        "        if not needle:\n",
        "            return 0\n",
        "        return haystack.find(needle)\n"
      ],
      "metadata": {
        "id": "o1cY5c3JkvEu"
      },
      "execution_count": null,
      "outputs": []
    },
    {
      "cell_type": "code",
      "source": [
        "'Valid Palindrome'\n",
        "\n",
        "class Solution:\n",
        "    def isPalindrome(self, s: str) -> bool:\n",
        "        # Step 1: Preprocess the string\n",
        "        filtered_chars = [char.lower() for char in s if char.isalnum()]\n",
        "        filtered_str = ''.join(filtered_chars)\n",
        "\n",
        "        # Step 2: Checks if the filtered string is a palindrome\n",
        "        return filtered_str == filtered_str[::-1]\n",
        "\n",
        "# Example usage:\n",
        "solution = Solution()\n",
        "print(solution.isPalindrome(\"A man, a plan, a canal: Panama\"))  # Output: true\n",
        "print(solution.isPalindrome(\"race a car\"))  # Output: false\n"
      ],
      "metadata": {
        "id": "OPrsSQjIkvCi",
        "outputId": "59a40f1b-c72f-407d-cd2d-fb048562326e",
        "colab": {
          "base_uri": "https://localhost:8080/"
        }
      },
      "execution_count": null,
      "outputs": [
        {
          "output_type": "stream",
          "name": "stdout",
          "text": [
            "True\n",
            "False\n"
          ]
        }
      ]
    },
    {
      "cell_type": "code",
      "source": [
        "'Container With Most Water'\n",
        "\n",
        "class Solution:\n",
        "    def maxArea(self, height: List[int]) -> int:\n",
        "        left, right = 0, len(height) - 1\n",
        "        max_water = 0\n",
        "\n",
        "        while left < right:\n",
        "            width = right - left\n",
        "            max_water = max(max_water, min(height[left], height[right]) * width)\n",
        "\n",
        "            if height[left] < height[right]:\n",
        "                left += 1\n",
        "            else:\n",
        "                right -= 1\n",
        "        return max_water\n"
      ],
      "metadata": {
        "id": "PARj0F-mku-A"
      },
      "execution_count": null,
      "outputs": []
    },
    {
      "cell_type": "code",
      "source": [
        "'Longest Substring Without Repeating Characters'\n",
        "\n",
        "class Solution:\n",
        "    def lengthOfLongestSubstring(self, s: str) -> int:\n",
        "        char_set = set()\n",
        "        left = 0\n",
        "        max_length = 0\n",
        "\n",
        "        for right in range(len(s)):\n",
        "            while s[right] in char_set:\n",
        "                char_set.remove(s[left])\n",
        "                left += 1\n",
        "            char_set.add(s[right])\n",
        "            max_length = max(max_length, right - left + 1)\n",
        "\n",
        "        return max_length"
      ],
      "metadata": {
        "id": "mDx1ck8gku23"
      },
      "execution_count": null,
      "outputs": []
    },
    {
      "cell_type": "code",
      "source": [
        "'Two Sum'\n",
        "\n",
        "class Solution:\n",
        "    def twoSum(self, nums: List[int], target: int) -> List[int]:\n",
        "        hashmap = {}\n",
        "        for i, num in enumerate(nums):\n",
        "            complement = target - num\n",
        "            if complement in hashmap:\n",
        "                return [hashmap[complement], i]\n",
        "            hashmap[num] = i\n",
        "\n",
        "# Example usage:\n",
        "solution = Solution()\n",
        "result = solution.twoSum([2, 7, 11, 15], 9)  # Output: [0, 1]\n",
        "print(result)"
      ],
      "metadata": {
        "colab": {
          "base_uri": "https://localhost:8080/"
        },
        "id": "DyXM-yP2kuv5",
        "outputId": "058f3c37-4ac0-41c1-e9c0-48d36a7a5580"
      },
      "execution_count": null,
      "outputs": [
        {
          "output_type": "stream",
          "name": "stdout",
          "text": [
            "[0, 1]\n"
          ]
        }
      ]
    },
    {
      "cell_type": "code",
      "source": [
        "'Valid Parentheses'\n",
        "\n",
        "class Solution:\n",
        "    def isValid(self, s: str) -> bool:\n",
        "        # Defines a mapping of closing to opening brackets\n",
        "        bracket_map = {')': '(', '}': '{', ']': '['}\n",
        "        stack = []\n",
        "\n",
        "        # Iterates through each character in the string\n",
        "        for char in s:\n",
        "            if char in bracket_map:\n",
        "                # Pops the topmost element from the stack if it is not empty, otherwise use a dummy value\n",
        "                top_element = stack.pop() if stack else '#'\n",
        "\n",
        "                # The mapping for the closing bracket doesn't match the stack's top element\n",
        "                if bracket_map[char] != top_element:\n",
        "                    return False\n",
        "            else:\n",
        "                # It's an opening bracket, push onto the stack\n",
        "                stack.append(char)\n",
        "\n",
        "        # If the stack is empty, all the brackets are matched correctly\n",
        "        return not stack\n",
        "\n",
        "# Example usage:\n",
        "solution = Solution()\n",
        "print(solution.isValid(\"()\"))  # Output: True\n",
        "print(solution.isValid(\"()[]{}\"))  # Output: True\n",
        "print(solution.isValid(\"(]\"))  # Output: False\n",
        "print(solution.isValid(\"([)]\"))  # Output: False\n",
        "print(solution.isValid(\"{[]}\"))  # Output: True"
      ],
      "metadata": {
        "id": "sjtoRBenkyXr",
        "outputId": "b1e3f3b4-f732-46e1-9aac-e539b081dad9",
        "colab": {
          "base_uri": "https://localhost:8080/"
        }
      },
      "execution_count": null,
      "outputs": [
        {
          "output_type": "stream",
          "name": "stdout",
          "text": [
            "True\n",
            "True\n",
            "False\n",
            "False\n",
            "True\n"
          ]
        }
      ]
    },
    {
      "cell_type": "code",
      "source": [
        "'Merge Two Sorted Lists'\n",
        "\n",
        "from typing import Optional\n",
        "\n",
        "class ListNode:\n",
        "    def __init__(self, val=0, next: Optional['ListNode'] = None):\n",
        "        self.val = val\n",
        "        self.next = next\n",
        "\n",
        "\n",
        "class Solution:\n",
        "    def mergeTwoLists(self, list1: Optional['ListNode'], list2: Optional['ListNode']) -> Optional['ListNode']:\n",
        "        dummy = ListNode()\n",
        "        current = dummy\n",
        "\n",
        "        while list1 and list2:\n",
        "            if list1.val < list2.val:\n",
        "                current.next = list1\n",
        "                list1 = list1.next\n",
        "            else:\n",
        "                current.next = list2\n",
        "                list2 = list2.next\n",
        "            current = current.next\n",
        "\n",
        "        if list1:\n",
        "            current.next = list1\n",
        "        if list2:\n",
        "            current.next = list2\n",
        "\n",
        "        return dummy.next\n",
        "\n",
        "# Example usage:\n",
        "# Creates ListNode objects for list1: 1 -> 2 -> 4\n",
        "list1 = ListNode(1, ListNode(2, ListNode(4)))\n",
        "\n",
        "# Creates ListNode objects for list2: 1 -> 3 -> 4\n",
        "list2 = ListNode(1, ListNode(3, ListNode(4)))\n",
        "\n",
        "# Instantiates Solution and call mergeTwoLists\n",
        "solution = Solution()\n",
        "result = solution.mergeTwoLists(list1, list2)\n",
        "\n",
        "# Print merged list\n",
        "while result:\n",
        "    print(result.val, end=\" -> \" if result.next else \"\")\n",
        "    result = result.next\n"
      ],
      "metadata": {
        "colab": {
          "base_uri": "https://localhost:8080/"
        },
        "id": "vo9eD6k9kyRm",
        "outputId": "dc3526a9-7687-42cb-846e-237b8ba5a68b"
      },
      "execution_count": null,
      "outputs": [
        {
          "output_type": "stream",
          "name": "stdout",
          "text": [
            "1 -> 1 -> 2 -> 3 -> 4 -> 4"
          ]
        }
      ]
    },
    {
      "cell_type": "code",
      "source": [
        "'Merge K Number of Sorted Lists'\n",
        "\n",
        "from typing import List, Optional\n",
        "import heapq\n",
        "\n",
        "class ListNode:\n",
        "    def __init__(self, val=0, next: Optional['ListNode'] = None):\n",
        "        self.val = val\n",
        "        self.next = next\n",
        "\n",
        "class Solution:\n",
        "    def mergeKLists(self, lists: List[Optional['ListNode']]) -> Optional['ListNode']:\n",
        "        min_heap = []\n",
        "\n",
        "        # Initializes the heap with the head of each list\n",
        "        for i, l in enumerate(lists):\n",
        "            if l:\n",
        "                heapq.heappush(min_heap, (l.val, i, l))\n",
        "\n",
        "        dummy = ListNode()\n",
        "        current = dummy\n",
        "\n",
        "        while min_heap:\n",
        "            val, i, node = heapq.heappop(min_heap)\n",
        "            current.next = node\n",
        "            current = current.next\n",
        "            if node.next:\n",
        "                heapq.heappush(min_heap, (node.next.val, i, node.next))\n",
        "\n",
        "        return dummy.next\n",
        "\n",
        "# Example usage:\n",
        "# Creates ListNode objects for list1: 1 -> 4 -> 5\n",
        "list1 = ListNode(1, ListNode(4, ListNode(5)))\n",
        "\n",
        "# Creates ListNode objects for list2: 1 -> 3 -> 4\n",
        "list2 = ListNode(1, ListNode(3, ListNode(4)))\n",
        "\n",
        "# Creates ListNode objects for list3: 2 -> 6\n",
        "list3 = ListNode(2, ListNode(6))\n",
        "\n",
        "# Instantiates Solution and call mergeKLists\n",
        "solution = Solution()\n",
        "result = solution.mergeKLists([list1, list2, list3])\n",
        "\n",
        "# Prints merged list\n",
        "while result:\n",
        "    print(result.val, end=\" -> \" if result.next else \"\")\n",
        "    result = result.next\n"
      ],
      "metadata": {
        "colab": {
          "base_uri": "https://localhost:8080/"
        },
        "id": "qTxSZ3pZkyO6",
        "outputId": "a97f819c-65ff-4197-fbe9-af67d93abae3"
      },
      "execution_count": null,
      "outputs": [
        {
          "output_type": "stream",
          "name": "stdout",
          "text": [
            "1 -> 1 -> 2 -> 3 -> 4 -> 4 -> 5 -> 6"
          ]
        }
      ]
    },
    {
      "cell_type": "code",
      "source": [
        "'Median of Two Sorted Arrays'\n",
        "\n",
        "class Solution:\n",
        "    def findMedianSortedArrays(self, nums1: List[int], nums2: List[int]) -> float:\n",
        "        nums = nums1 + nums2\n",
        "        nums.sort()\n",
        "        n = len(nums)\n",
        "        if n % 2 == 1:\n",
        "            return float(nums[n // 2])\n",
        "        else:\n",
        "            return (nums[n // 2 - 1] + nums[n // 2]) / 2\n",
        "\n",
        "# Example usage\n",
        "solution = Solution()\n",
        "print(solution.findMedianSortedArrays([1, 3], [2]))  # Output: 2.0"
      ],
      "metadata": {
        "id": "lvKcWwG4kyNf",
        "outputId": "9447a26e-1f89-4e61-852a-a1da90f20d7d",
        "colab": {
          "base_uri": "https://localhost:8080/"
        }
      },
      "execution_count": null,
      "outputs": [
        {
          "output_type": "stream",
          "name": "stdout",
          "text": [
            "2.0\n"
          ]
        }
      ]
    },
    {
      "cell_type": "code",
      "source": [
        "'Palindrome Number'\n",
        "\n",
        "class Solution:\n",
        "    def isPalindrome(self, x: int) -> bool:\n",
        "        if x < 0:\n",
        "            return False\n",
        "        original = x\n",
        "        reversed_num = 0\n",
        "        while x > 0:\n",
        "            reversed_num = reversed_num * 10 + x % 10\n",
        "            x //= 10\n",
        "        return original == reversed_num\n",
        "\n",
        "# Example usage\n",
        "solution = Solution()\n",
        "print(solution.isPalindrome(121))  # Output: True"
      ],
      "metadata": {
        "colab": {
          "base_uri": "https://localhost:8080/"
        },
        "id": "xtY5IglokyMF",
        "outputId": "d3704fbb-dfbe-4e43-b7c9-0323b7df477e"
      },
      "execution_count": null,
      "outputs": [
        {
          "output_type": "stream",
          "name": "stdout",
          "text": [
            "True\n"
          ]
        }
      ]
    },
    {
      "cell_type": "code",
      "source": [
        "'Sqrt(x)'\n",
        "\n",
        "class Solution:\n",
        "    def mySqrt(self, x: int) -> int:\n",
        "        if x == 0:\n",
        "            return 0\n",
        "        left, right = 1, x\n",
        "        while left <= right:\n",
        "            mid = (left + right) // 2\n",
        "            if mid * mid == x:\n",
        "                return mid\n",
        "            elif mid * mid < x:\n",
        "                left = mid + 1\n",
        "            else:\n",
        "                right = mid - 1\n",
        "        return right\n",
        "\n",
        "# Example usage\n",
        "solution = Solution()\n",
        "print(solution.mySqrt(8))  # Output: 2"
      ],
      "metadata": {
        "colab": {
          "base_uri": "https://localhost:8080/"
        },
        "id": "VOCKpMY2kyKo",
        "outputId": "4d42dc09-eaeb-4461-ddb2-389359e64006"
      },
      "execution_count": null,
      "outputs": [
        {
          "output_type": "stream",
          "name": "stdout",
          "text": [
            "2\n"
          ]
        }
      ]
    },
    {
      "cell_type": "code",
      "source": [
        "'Climbing Stairs'\n",
        "\n",
        "class Solution:\n",
        "    def climbStairs(self, n: int) -> int:\n",
        "        if n == 1:\n",
        "            return 1\n",
        "        if n == 2:\n",
        "            return 2\n",
        "\n",
        "        dp = [0] * (n + 1)\n",
        "        dp[1] = 1\n",
        "        dp[2] = 2\n",
        "\n",
        "        for i in range(3, n + 1):\n",
        "            dp[i] = dp[i - 1] + dp[i - 2]\n",
        "\n",
        "        return dp[n]\n",
        "\n",
        "# Example usage:\n",
        "solution = Solution()\n",
        "print(solution.climbStairs(2))  # Output: 2\n",
        "print(solution.climbStairs(3))  # Output: 3\n",
        "print(solution.climbStairs(4))  # Output: 5\n",
        "print(solution.climbStairs(5))  # Output: 8"
      ],
      "metadata": {
        "id": "EVI801askyIy",
        "outputId": "797c931d-6218-4304-a1fd-946bc646594b",
        "colab": {
          "base_uri": "https://localhost:8080/"
        }
      },
      "execution_count": null,
      "outputs": [
        {
          "output_type": "stream",
          "name": "stdout",
          "text": [
            "2\n",
            "3\n",
            "5\n",
            "8\n"
          ]
        }
      ]
    },
    {
      "cell_type": "code",
      "source": [
        "'Longest Palindromic Substring'\n",
        "\n",
        "class Solution:\n",
        "    def longestPalindrome(self, s: str) -> str:\n",
        "        def expand_around_center(left: int, right: int) -> str:\n",
        "            while left >= 0 and right < len(s) and s[left] == s[right]:\n",
        "                left -= 1\n",
        "                right += 1\n",
        "            return s[left + 1:right]\n",
        "\n",
        "        longest = \"\"\n",
        "        for i in range(len(s)):\n",
        "            # Odd length palindrome\n",
        "            odd_palindrome = expand_around_center(i, i)\n",
        "            if len(odd_palindrome) > len(longest):\n",
        "                longest = odd_palindrome\n",
        "            # Even length palindrome\n",
        "            even_palindrome = expand_around_center(i, i + 1)\n",
        "            if len(even_palindrome) > len(longest):\n",
        "                longest = even_palindrome\n",
        "\n",
        "        return longest\n",
        "\n",
        "# Example usage\n",
        "solution = Solution()\n",
        "print(solution.longestPalindrome(\"babad\"))  # Output: \"bab\" or \"aba\"\n"
      ],
      "metadata": {
        "id": "E_JwJ0UwkyHR",
        "outputId": "c6f9658f-ded6-4452-a890-3532a66f358a",
        "colab": {
          "base_uri": "https://localhost:8080/"
        }
      },
      "execution_count": null,
      "outputs": [
        {
          "output_type": "stream",
          "name": "stdout",
          "text": [
            "bab\n"
          ]
        }
      ]
    },
    {
      "cell_type": "code",
      "source": [
        "'Longest Path With Different Adjacent Characters'\n",
        "\n",
        "from collections import defaultdict\n",
        "\n",
        "class Solution:\n",
        "    def longestPath(self, parent: List[int], s: str) -> int:\n",
        "\n",
        "        tree = defaultdict(list)\n",
        "        for child, par in enumerate(parent):\n",
        "            if par != -1:\n",
        "                tree[par].append(child)\n",
        "\n",
        "        self.max_path = 0\n",
        "\n",
        "        def dfs(node):\n",
        "\n",
        "            if node not in tree:\n",
        "                return 1\n",
        "\n",
        "            max_len1, max_len2 = 0, 0\n",
        "            for child in tree[node]:\n",
        "                child_len = dfs(child)\n",
        "                if s[child] != s[node]:\n",
        "                    if child_len > max_len1:\n",
        "                        max_len2 = max_len1\n",
        "                        max_len1 = child_len\n",
        "                    elif child_len > max_len2:\n",
        "                        max_len2 = child_len\n",
        "\n",
        "            self.max_path = max(self.max_path, max_len1 + max_len2 + 1)\n",
        "            return max_len1 + 1\n",
        "\n",
        "\n",
        "        if len(parent) == 1:\n",
        "            return 1\n",
        "\n",
        "        dfs(0)\n",
        "        return self.max_path\n"
      ],
      "metadata": {
        "id": "YqOhyCyAkyEh"
      },
      "execution_count": null,
      "outputs": []
    },
    {
      "cell_type": "code",
      "source": [
        "'Fibonacci Number'\n",
        "\n",
        "class Solution:\n",
        "    def fib(self, n: int) -> int:\n",
        "        if n == 0:\n",
        "            return 0\n",
        "        elif n == 1:\n",
        "            return 1\n",
        "\n",
        "        # Initialize the first two Fibonacci numbers\n",
        "        a, b = 0, 1\n",
        "        for _ in range(2, n + 1):\n",
        "            a, b = b, a + b\n",
        "\n",
        "        return b\n",
        "solution = Solution()\n",
        "print(solution.fib(5))  # Output: 5\n"
      ],
      "metadata": {
        "id": "n-PaQEBMkyBo",
        "colab": {
          "base_uri": "https://localhost:8080/"
        },
        "outputId": "c11a7ceb-7075-4ceb-c1a2-31117217dcc4"
      },
      "execution_count": null,
      "outputs": [
        {
          "output_type": "stream",
          "name": "stdout",
          "text": [
            "5\n"
          ]
        }
      ]
    },
    {
      "cell_type": "code",
      "source": [
        "'Gas Station'\n",
        "from typing import List\n",
        "class Solution:\n",
        "    def canCompleteCircuit(self, gas: List[int], cost: List[int]) -> int:\n",
        "        total_gas, total_cost, start_index, tank = 0, 0, 0, 0\n",
        "\n",
        "        for i in range(len(gas)):\n",
        "            total_gas += gas[i]\n",
        "            total_cost += cost[i]\n",
        "            tank += gas[i] - cost[i]\n",
        "\n",
        "            if tank < 0:\n",
        "                start_index = i + 1\n",
        "                tank = 0\n",
        "\n",
        "        return start_index if total_gas >= total_cost else -1"
      ],
      "metadata": {
        "id": "hIegmo5gmHae"
      },
      "execution_count": 2,
      "outputs": []
    },
    {
      "cell_type": "code",
      "source": [
        "'Minimum Size Subarray Sum'\n",
        "class Solution:\n",
        "    def minSubArrayLen(self, target: int, nums: List[int]) -> int:\n",
        "        n = len(nums)\n",
        "        left = 0\n",
        "        total = 0\n",
        "        min_length = float('inf')\n",
        "\n",
        "        for right in range(n):\n",
        "            total += nums[right]\n",
        "\n",
        "            while total >= target:\n",
        "                min_length = min(min_length, right - left + 1)\n",
        "                total -= nums[left]\n",
        "                left += 1\n",
        "\n",
        "        return min_length if min_length != float('inf') else 0\n"
      ],
      "metadata": {
        "id": "hFgBAkPPmIDO"
      },
      "execution_count": 3,
      "outputs": []
    },
    {
      "cell_type": "code",
      "source": [
        "'Rotate Image'\n",
        "class Solution:\n",
        "    def rotate(self, matrix: List[List[int]]) -> None:\n",
        "        n = len(matrix)\n",
        "\n",
        "        # Transpose the matrix\n",
        "        for i in range(n):\n",
        "            for j in range(i, n):\n",
        "                matrix[i][j], matrix[j][i] = matrix[j][i], matrix[i][j]\n",
        "\n",
        "        # Reverse each row\n",
        "        for row in matrix:\n",
        "            row.reverse()\n"
      ],
      "metadata": {
        "id": "pM6IGWYpnbmo"
      },
      "execution_count": 4,
      "outputs": []
    },
    {
      "cell_type": "code",
      "source": [
        "'Game of Life'\n",
        "class Solution:\n",
        "    def gameOfLife(self, board: List[List[int]]) -> None:\n",
        "        m, n = len(board), len(board[0])\n",
        "\n",
        "        def count_live_neighbors(x, y):\n",
        "            directions = [(-1, -1), (-1, 0), (-1, 1), (0, -1), (0, 1), (1, -1), (1, 0), (1, 1)]\n",
        "            count = 0\n",
        "            for dx, dy in directions:\n",
        "                nx, ny = x + dx, y + dy\n",
        "                if 0 <= nx < m and 0 <= ny < n and abs(board[nx][ny]) == 1:\n",
        "                    count += 1\n",
        "            return count\n",
        "\n",
        "        for i in range(m):\n",
        "            for j in range(n):\n",
        "                live_neighbors = count_live_neighbors(i, j)\n",
        "\n",
        "\n",
        "                if board[i][j] == 1 and (live_neighbors < 2 or live_neighbors > 3):\n",
        "                    board[i][j] = -1\n",
        "\n",
        "\n",
        "                if board[i][j] == 0 and live_neighbors == 3:\n",
        "                    board[i][j] = 2\n",
        "\n",
        "        for i in range(m):\n",
        "            for j in range(n):\n",
        "                if board[i][j] > 0:\n",
        "                    board[i][j] = 1\n",
        "                else:\n",
        "                    board[i][j] = 0"
      ],
      "metadata": {
        "id": "QUWCB_4LqZ8v"
      },
      "execution_count": 5,
      "outputs": []
    },
    {
      "cell_type": "code",
      "source": [],
      "metadata": {
        "id": "GEJa2BwgqvZ4"
      },
      "execution_count": null,
      "outputs": []
    }
  ]
}